{
 "cells": [
  {
   "cell_type": "code",
   "execution_count": 33,
   "metadata": {
    "collapsed": true
   },
   "outputs": [],
   "source": []
  },
  {
   "cell_type": "code",
   "execution_count": 34,
   "outputs": [],
   "source": [
    "# ## Import Required Libraries\n"
   ],
   "metadata": {
    "collapsed": false,
    "pycharm": {
     "name": "#%% [markdown]\n"
    }
   }
  },
  {
   "cell_type": "code",
   "execution_count": 35,
   "outputs": [],
   "source": [
    "import chess\n",
    "import chess.engine\n",
    "import chess.pgn\n",
    "import chess.svg\n",
    "import subprocess\n",
    "import os\n",
    "from PIL import Image\n",
    "import io\n"
   ],
   "metadata": {
    "collapsed": false
   }
  },
  {
   "cell_type": "code",
   "execution_count": 36,
   "outputs": [],
   "source": [
    "# ## Paths to Engines and Models\n"
   ],
   "metadata": {
    "collapsed": false,
    "pycharm": {
     "name": "#%% [markdown]\n"
    }
   }
  },
  {
   "cell_type": "code",
   "execution_count": 37,
   "outputs": [],
   "source": [
    "# Paths to your engines and Maia models\n",
    "stockfish_path = \"/opt/homebrew/bin/stockfish\"\n",
    "maia_model_paths = {\n",
    "    1100: \"maia_weights/maia-1100.pb.gz\",\n",
    "    1200: \"maia_weights/maia-1200.pb.gz\",\n",
    "    1300: \"maia_weights/maia-1300.pb.gz\",\n",
    "    1400: \"maia_weights/maia-1400.pb.gz\",\n",
    "    1500: \"maia_weights/maia-1500.pb.gz\",\n",
    "    1600: \"maia_weights/maia-1600.pb.gz\",\n",
    "    1700: \"maia_weights/maia-1700.pb.gz\",\n",
    "    1800: \"maia_weights/maia-1800.pb.gz\",\n",
    "    1900: \"maia_weights/maia-1900.pb.gz\",\n",
    "}\n"
   ],
   "metadata": {
    "collapsed": false
   }
  },
  {
   "cell_type": "code",
   "execution_count": 38,
   "outputs": [],
   "source": [
    "# ## Initialize Engines\n"
   ],
   "metadata": {
    "collapsed": false,
    "pycharm": {
     "name": "#%% [markdown]\n"
    }
   }
  },
  {
   "cell_type": "code",
   "execution_count": 39,
   "outputs": [
    {
     "name": "stdout",
     "output_type": "stream",
     "text": [
      "Initializing Stockfish engine...\n",
      "Stockfish engine initialized.\n",
      "Initializing Maia engines...\n",
      "Initializing Maia 1100 engine...\n",
      "Initializing Maia 1200 engine...\n",
      "Initializing Maia 1300 engine...\n",
      "Initializing Maia 1400 engine...\n",
      "Initializing Maia 1500 engine...\n",
      "Initializing Maia 1600 engine...\n",
      "Initializing Maia 1700 engine...\n",
      "Initializing Maia 1800 engine...\n",
      "Initializing Maia 1900 engine...\n",
      "Maia engines initialized.\n"
     ]
    }
   ],
   "source": [
    "# Initialize Stockfish engine\n",
    "print(\"Initializing Stockfish engine...\")\n",
    "stockfish_engine = chess.engine.SimpleEngine.popen_uci(stockfish_path, stderr=subprocess.DEVNULL)\n",
    "print(\"Stockfish engine initialized.\")\n",
    "\n",
    "# Initialize Maia engines\n",
    "print(\"Initializing Maia engines...\")\n",
    "maia_engines = {}\n",
    "for elo, path in maia_model_paths.items():\n",
    "    print(f\"Initializing Maia {elo} engine...\")\n",
    "    maia_engines[elo] = chess.engine.SimpleEngine.popen_uci([\"lc0\", f\"--weights={path}\"], stderr=subprocess.DEVNULL)\n",
    "print(\"Maia engines initialized.\")\n"
   ],
   "metadata": {
    "collapsed": false
   }
  },
  {
   "cell_type": "code",
   "execution_count": 40,
   "outputs": [],
   "source": [
    "# ## Load Games from PGN File\n"
   ],
   "metadata": {
    "collapsed": false,
    "pycharm": {
     "name": "#%% [markdown]\n"
    }
   }
  },
  {
   "cell_type": "code",
   "execution_count": 41,
   "outputs": [],
   "source": [
    "def load_games_from_pgn(file_path):\n",
    "    games = []\n",
    "    with open(file_path, 'r') as pgn_file:\n",
    "        while True:\n",
    "            game = chess.pgn.read_game(pgn_file)\n",
    "            if game is None:\n",
    "                break\n",
    "            games.append(game)\n",
    "    print(f\"Loaded {len(games)} games from PGN file.\")\n",
    "    return games\n"
   ],
   "metadata": {
    "collapsed": false
   }
  },
  {
   "cell_type": "code",
   "execution_count": 42,
   "outputs": [],
   "source": [
    "# ## Analyze Games with Engines\n"
   ],
   "metadata": {
    "collapsed": false,
    "pycharm": {
     "name": "#%% [markdown]\n"
    }
   }
  },
  {
   "cell_type": "code",
   "execution_count": 43,
   "outputs": [],
   "source": [
    "def analyze_with_engines(game, stockfish_engine, maia_engines):\n",
    "    board = game.board()\n",
    "    blunders = []\n",
    "\n",
    "    for move in game.mainline_moves():\n",
    "        fen_before = board.fen()  # Get FEN before the move\n",
    "\n",
    "        # Analyze the position before the move\n",
    "        stockfish_info_before = stockfish_engine.analyse(board, chess.engine.Limit(time=1))\n",
    "        stockfish_eval_before = stockfish_info_before[\"score\"].relative.score(mate_score=10000) / 100.0\n",
    "\n",
    "        board.push(move)\n",
    "\n",
    "        # Analyze the position after the move\n",
    "        stockfish_info_after = stockfish_engine.analyse(board, chess.engine.Limit(time=1))\n",
    "        stockfish_eval_after = stockfish_info_after[\"score\"].relative.score(mate_score=10000) / 100.0\n",
    "        stockfish_best_move_after = stockfish_info_after[\"pv\"][0] if \"pv\" in stockfish_info_after else None\n",
    "\n",
    "        if abs(stockfish_eval_before - stockfish_eval_after) > 1.5:  # If this is a blunder\n",
    "            maia_suggestions = {}\n",
    "            for elo, maia_engine in maia_engines.items():\n",
    "                maia_info = maia_engine.analyse(board, chess.engine.Limit(nodes=1))\n",
    "                maia_eval = maia_info[\"score\"].relative.score(mate_score=10000) / 100.0\n",
    "                maia_best_move = maia_info[\"pv\"][0] if \"pv\" in maia_info else None\n",
    "                maia_suggestions[elo] = (maia_best_move, maia_eval)\n",
    "\n",
    "            # Record the blunder with the position before the move\n",
    "            blunders.append((fen_before, move, stockfish_eval_after, stockfish_best_move_after, maia_suggestions))\n",
    "\n",
    "        board.pop()  # Revert the move to analyze the next move correctly\n",
    "\n",
    "    print(f\"Analyzed game with {len(blunders)} blunders found.\")\n",
    "    return blunders\n"
   ],
   "metadata": {
    "collapsed": false
   }
  },
  {
   "cell_type": "code",
   "execution_count": 44,
   "outputs": [],
   "source": [
    "# ## Filter Best Blunders\n"
   ],
   "metadata": {
    "collapsed": false,
    "pycharm": {
     "name": "#%% [markdown]\n"
    }
   }
  },
  {
   "cell_type": "code",
   "execution_count": 45,
   "outputs": [],
   "source": [
    "def filter_best_blunders(blunders):\n",
    "    filtered_blunders = []\n",
    "\n",
    "    # Threshold for considering a majority agreement\n",
    "    majority_threshold = 0.6  # 60% of the engines should agree\n",
    "\n",
    "    for fen, move, stockfish_eval, stockfish_best_move, maia_suggestions in blunders:\n",
    "        move_counts = {}\n",
    "\n",
    "        # Count how many times each move is suggested\n",
    "        for elo, (best_move, maia_eval) in maia_suggestions.items():\n",
    "            if elo > 1300:\n",
    "                if best_move in move_counts:\n",
    "                    move_counts[best_move] += 1\n",
    "                else:\n",
    "                    move_counts[best_move] = 1\n",
    "\n",
    "        # Find the move with the highest count\n",
    "        most_common_move, count = max(move_counts.items(), key=lambda item: item[1])\n",
    "\n",
    "        # Calculate the agreement ratio\n",
    "        total_considered = sum(1 for elo in maia_suggestions if elo > 1300)\n",
    "        agreement_ratio = count / total_considered if total_considered > 0 else 0\n",
    "\n",
    "        if agreement_ratio >= majority_threshold:\n",
    "            filtered_blunders.append((fen, move, stockfish_eval, most_common_move, maia_suggestions))\n",
    "\n",
    "    print(f\"Filtered blunders down to {len(filtered_blunders)} consistent ones.\")\n",
    "    return filtered_blunders\n"
   ],
   "metadata": {
    "collapsed": false
   }
  },
  {
   "cell_type": "code",
   "execution_count": 46,
   "outputs": [],
   "source": [
    "# ## Output Blunder Analysis\n"
   ],
   "metadata": {
    "collapsed": false,
    "pycharm": {
     "name": "#%% [markdown]\n"
    }
   }
  },
  {
   "cell_type": "code",
   "execution_count": 47,
   "outputs": [],
   "source": [
    "def output_blunder_analysis(blunders):\n",
    "    for fen, move, stockfish_eval, stockfish_best_move, maia_suggestions in blunders:\n",
    "        print(f\"Position: {fen}\")\n",
    "        print(f\"Blunder: {move}\")\n",
    "        print(f\"Stockfish Evaluation: {stockfish_eval}\")\n",
    "        print(f\"Stockfish Suggested Move: {stockfish_best_move}\")\n",
    "        for elo, (best_move, maia_eval) in maia_suggestions.items():\n",
    "            print(f\"Maia {elo} Evaluation: {maia_eval}, Suggested Move: {best_move}\")\n",
    "        print()\n"
   ],
   "metadata": {
    "collapsed": false
   }
  },
  {
   "cell_type": "code",
   "execution_count": 48,
   "outputs": [],
   "source": [
    "# ## Analyze and Filter Blunders\n"
   ],
   "metadata": {
    "collapsed": false,
    "pycharm": {
     "name": "#%% [markdown]\n"
    }
   }
  },
  {
   "cell_type": "code",
   "execution_count": null,
   "outputs": [
    {
     "name": "stdout",
     "output_type": "stream",
     "text": [
      "Loaded 10 games from PGN file.\n"
     ]
    }
   ],
   "source": [
    "# Load games from PGN file\n",
    "pgn_file_path = \"analysis_pgns/0KNdpNQd---1910 Lasker vs. Schlechter.pgn\"\n",
    "all_games = load_games_from_pgn(pgn_file_path)\n",
    "\n",
    "# Analyze games\n",
    "all_blunders = []\n",
    "for game in all_games:\n",
    "    blunders = analyze_with_engines(game, stockfish_engine, maia_engines)\n",
    "    filtered_blunders = filter_best_blunders(blunders)\n",
    "    if filtered_blunders:\n",
    "        all_blunders.append((game.headers[\"Event\"], filtered_blunders))\n",
    "\n",
    "# Output analysis\n",
    "for event, blunder_list in all_blunders:\n",
    "    print(f\"Event: {event}\")\n",
    "    output_blunder_analysis(blunder_list)\n"
   ],
   "metadata": {
    "collapsed": false,
    "pycharm": {
     "is_executing": true
    }
   }
  },
  {
   "cell_type": "code",
   "execution_count": null,
   "outputs": [],
   "source": [
    "# ## Generate and Save Board Images\n"
   ],
   "metadata": {
    "collapsed": false,
    "pycharm": {
     "name": "#%% [markdown]\n",
     "is_executing": true
    }
   }
  },
  {
   "cell_type": "code",
   "execution_count": null,
   "outputs": [],
   "source": [
    "# Function to save board image with annotations using svgwrite\n",
    "def save_board_image_with_svgwrite(board, move=None, output_file=\"board.png\"):\n",
    "    svg_data = chess.svg.board(board, lastmove=move)\n",
    "    svg_path = output_file.replace(\".png\", \".svg\")\n",
    "\n",
    "    # Save the SVG file\n",
    "    with open(svg_path, \"w\") as svg_file:\n",
    "        svg_file.write(svg_data)\n",
    "\n",
    "    # Convert SVG to PNG using rsvg-convert\n",
    "    subprocess.run([\"rsvg-convert\", \"-o\", output_file, svg_path])\n",
    "\n",
    "# Function to highlight a move on the board\n",
    "def highlight_move_with_svgwrite(board, move, output_file=\"highlighted_board.png\"):\n",
    "    if move in board.legal_moves:\n",
    "        board.push(move)\n",
    "        save_board_image_with_svgwrite(board, move, output_file)\n",
    "        board.pop()  # Revert the move\n",
    "    else:\n",
    "        print(f\"Illegal move {move} in position {board.fen()}\")\n",
    "\n",
    "# Directory to save images\n",
    "image_dir = \"chess_images\"\n",
    "os.makedirs(image_dir, exist_ok=True)\n",
    "\n",
    "# Generate images for each critical position\n",
    "for event, blunder_list in all_blunders:\n",
    "    print(f\"Event: {event}\")\n",
    "    for i, (fen, move, stockfish_eval, stockfish_best_move, maia_suggestions) in enumerate(blunder_list):\n",
    "        board = chess.Board(fen)\n",
    "\n",
    "        # Save initial board state\n",
    "        initial_image_path = os.path.join(image_dir, f\"{event.replace(' ', '_')}_pos_{i}_initial.png\")\n",
    "        save_board_image_with_svgwrite(board, output_file=initial_image_path)\n",
    "\n",
    "        # Highlight the blunder move\n",
    "        blunder_image_path = os.path.join(image_dir, f\"{event.replace(' ', '_')}_pos_{i}_blunder.png\")\n",
    "        highlight_move_with_svgwrite(board, move, output_file=blunder_image_path)\n",
    "\n",
    "        # Highlight the correct move\n",
    "        correct_image_path = os.path.join(image_dir, f\"{event.replace(' ', '_')}_pos_{i}_correct.png\")\n",
    "        highlight_move_with_svgwrite(board, stockfish_best_move, output_file=correct_image_path)\n",
    "\n",
    "        print(f\"Position: {fen}\")\n",
    "        print(f\"Blunder: {move}\")\n",
    "        print(f\"Stockfish Evaluation: {stockfish_eval}\")\n",
    "        print(f\"Stockfish Suggested Move: {stockfish_best_move}\")\n",
    "        for elo, (best_move, maia_eval) in maia_suggestions.items():\n",
    "            print(f\"Maia {elo} Evaluation: {maia_eval}, Suggested Move: {best_move}\")\n",
    "        print(f\"Initial Image: {initial_image_path}\")\n",
    "        print(f\"Blunder Image: {blunder_image_path}\")\n",
    "        print(f\"Correct Move Image: {correct_image_path}\")\n",
    "        print()\n"
   ],
   "metadata": {
    "collapsed": false,
    "pycharm": {
     "is_executing": true
    }
   }
  },
  {
   "cell_type": "code",
   "execution_count": null,
   "outputs": [],
   "source": [
    "# ## Cleanup Engines\n"
   ],
   "metadata": {
    "collapsed": false,
    "pycharm": {
     "name": "#%% [markdown]\n",
     "is_executing": true
    }
   }
  },
  {
   "cell_type": "code",
   "execution_count": null,
   "outputs": [],
   "source": [
    "# Cleanup\n",
    "print(\"Cleaning up engines...\")\n",
    "stockfish_engine.quit()\n",
    "for maia_engine in maia_engines.values():\n",
    "    maia_engine.quit()\n",
    "print(\"Engines cleaned up.\")\n"
   ],
   "metadata": {
    "collapsed": false,
    "pycharm": {
     "is_executing": true
    }
   }
  }
 ],
 "metadata": {
  "kernelspec": {
   "display_name": "Python 3",
   "language": "python",
   "name": "python3"
  },
  "language_info": {
   "codemirror_mode": {
    "name": "ipython",
    "version": 2
   },
   "file_extension": ".py",
   "mimetype": "text/x-python",
   "name": "python",
   "nbconvert_exporter": "python",
   "pygments_lexer": "ipython2",
   "version": "2.7.6"
  }
 },
 "nbformat": 4,
 "nbformat_minor": 0
}
