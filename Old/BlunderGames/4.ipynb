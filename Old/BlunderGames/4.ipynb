{
 "cells": [
  {
   "cell_type": "code",
   "execution_count": null,
   "metadata": {
    "collapsed": true
   },
   "outputs": [],
   "source": []
  },
  {
   "cell_type": "code",
   "execution_count": 1,
   "outputs": [
    {
     "ename": "OSError",
     "evalue": "no library called \"cairo-2\" was found\nno library called \"cairo\" was found\nno library called \"libcairo-2\" was found\ncannot load library 'libcairo.so.2': dlopen(libcairo.so.2, 0x0002): tried: 'libcairo.so.2' (no such file), '/System/Volumes/Preboot/Cryptexes/OSlibcairo.so.2' (no such file), '/Users/alankritverma/miniconda3/envs/CSSLAB/bin/../lib/libcairo.so.2' (no such file), '/usr/lib/libcairo.so.2' (no such file, not in dyld cache), 'libcairo.so.2' (no such file).  Additionally, ctypes.util.find_library() did not manage to locate a library called 'libcairo.so.2'\ncannot load library 'libcairo.2.dylib': dlopen(libcairo.2.dylib, 0x0002): tried: 'libcairo.2.dylib' (no such file), '/System/Volumes/Preboot/Cryptexes/OSlibcairo.2.dylib' (no such file), '/Users/alankritverma/miniconda3/envs/CSSLAB/bin/../lib/libcairo.2.dylib' (no such file), '/usr/lib/libcairo.2.dylib' (no such file, not in dyld cache), 'libcairo.2.dylib' (no such file).  Additionally, ctypes.util.find_library() did not manage to locate a library called 'libcairo.2.dylib'\ncannot load library 'libcairo-2.dll': dlopen(libcairo-2.dll, 0x0002): tried: 'libcairo-2.dll' (no such file), '/System/Volumes/Preboot/Cryptexes/OSlibcairo-2.dll' (no such file), '/Users/alankritverma/miniconda3/envs/CSSLAB/bin/../lib/libcairo-2.dll' (no such file), '/usr/lib/libcairo-2.dll' (no such file, not in dyld cache), 'libcairo-2.dll' (no such file).  Additionally, ctypes.util.find_library() did not manage to locate a library called 'libcairo-2.dll'",
     "output_type": "error",
     "traceback": [
      "\u001B[0;31m---------------------------------------------------------------------------\u001B[0m",
      "\u001B[0;31mOSError\u001B[0m                                   Traceback (most recent call last)",
      "Cell \u001B[0;32mIn[1], line 6\u001B[0m\n\u001B[1;32m      4\u001B[0m \u001B[38;5;28;01mimport\u001B[39;00m \u001B[38;5;21;01mchess\u001B[39;00m\u001B[38;5;21;01m.\u001B[39;00m\u001B[38;5;21;01mpgn\u001B[39;00m\n\u001B[1;32m      5\u001B[0m \u001B[38;5;28;01mimport\u001B[39;00m \u001B[38;5;21;01mchess\u001B[39;00m\u001B[38;5;21;01m.\u001B[39;00m\u001B[38;5;21;01msvg\u001B[39;00m\n\u001B[0;32m----> 6\u001B[0m \u001B[38;5;28;01mfrom\u001B[39;00m \u001B[38;5;21;01mcairosvg\u001B[39;00m \u001B[38;5;28;01mimport\u001B[39;00m svg2png\n\u001B[1;32m      7\u001B[0m \u001B[38;5;28;01mimport\u001B[39;00m \u001B[38;5;21;01msubprocess\u001B[39;00m\n\u001B[1;32m      8\u001B[0m \u001B[38;5;28;01mimport\u001B[39;00m \u001B[38;5;21;01mos\u001B[39;00m\n",
      "File \u001B[0;32m~/miniconda3/envs/CSSLAB/lib/python3.8/site-packages/cairosvg/__init__.py:26\u001B[0m\n\u001B[1;32m     22\u001B[0m VERSION \u001B[38;5;241m=\u001B[39m __version__ \u001B[38;5;241m=\u001B[39m (ROOT \u001B[38;5;241m/\u001B[39m \u001B[38;5;124m'\u001B[39m\u001B[38;5;124mVERSION\u001B[39m\u001B[38;5;124m'\u001B[39m)\u001B[38;5;241m.\u001B[39mread_text()\u001B[38;5;241m.\u001B[39mstrip()\n\u001B[1;32m     25\u001B[0m \u001B[38;5;66;03m# VERSION is used in the \"url\" module imported by \"surface\"\u001B[39;00m\n\u001B[0;32m---> 26\u001B[0m \u001B[38;5;28;01mfrom\u001B[39;00m \u001B[38;5;21;01m.\u001B[39;00m \u001B[38;5;28;01mimport\u001B[39;00m surface  \u001B[38;5;66;03m# noqa isort:skip\u001B[39;00m\n\u001B[1;32m     29\u001B[0m SURFACES \u001B[38;5;241m=\u001B[39m {\n\u001B[1;32m     30\u001B[0m     \u001B[38;5;124m'\u001B[39m\u001B[38;5;124mPDF\u001B[39m\u001B[38;5;124m'\u001B[39m: surface\u001B[38;5;241m.\u001B[39mPDFSurface,\n\u001B[1;32m     31\u001B[0m     \u001B[38;5;124m'\u001B[39m\u001B[38;5;124mPNG\u001B[39m\u001B[38;5;124m'\u001B[39m: surface\u001B[38;5;241m.\u001B[39mPNGSurface,\n\u001B[0;32m   (...)\u001B[0m\n\u001B[1;32m     34\u001B[0m     \u001B[38;5;124m'\u001B[39m\u001B[38;5;124mSVG\u001B[39m\u001B[38;5;124m'\u001B[39m: surface\u001B[38;5;241m.\u001B[39mSVGSurface,\n\u001B[1;32m     35\u001B[0m }\n\u001B[1;32m     38\u001B[0m \u001B[38;5;28;01mdef\u001B[39;00m \u001B[38;5;21msvg2svg\u001B[39m(bytestring\u001B[38;5;241m=\u001B[39m\u001B[38;5;28;01mNone\u001B[39;00m, \u001B[38;5;241m*\u001B[39m, file_obj\u001B[38;5;241m=\u001B[39m\u001B[38;5;28;01mNone\u001B[39;00m, url\u001B[38;5;241m=\u001B[39m\u001B[38;5;28;01mNone\u001B[39;00m, dpi\u001B[38;5;241m=\u001B[39m\u001B[38;5;241m96\u001B[39m,\n\u001B[1;32m     39\u001B[0m             parent_width\u001B[38;5;241m=\u001B[39m\u001B[38;5;28;01mNone\u001B[39;00m, parent_height\u001B[38;5;241m=\u001B[39m\u001B[38;5;28;01mNone\u001B[39;00m, scale\u001B[38;5;241m=\u001B[39m\u001B[38;5;241m1\u001B[39m, unsafe\u001B[38;5;241m=\u001B[39m\u001B[38;5;28;01mFalse\u001B[39;00m,\n\u001B[1;32m     40\u001B[0m             background_color\u001B[38;5;241m=\u001B[39m\u001B[38;5;28;01mNone\u001B[39;00m, negate_colors\u001B[38;5;241m=\u001B[39m\u001B[38;5;28;01mFalse\u001B[39;00m, invert_images\u001B[38;5;241m=\u001B[39m\u001B[38;5;28;01mFalse\u001B[39;00m,\n\u001B[1;32m     41\u001B[0m             write_to\u001B[38;5;241m=\u001B[39m\u001B[38;5;28;01mNone\u001B[39;00m, output_width\u001B[38;5;241m=\u001B[39m\u001B[38;5;28;01mNone\u001B[39;00m, output_height\u001B[38;5;241m=\u001B[39m\u001B[38;5;28;01mNone\u001B[39;00m):\n",
      "File \u001B[0;32m~/miniconda3/envs/CSSLAB/lib/python3.8/site-packages/cairosvg/surface.py:9\u001B[0m\n\u001B[1;32m      6\u001B[0m \u001B[38;5;28;01mimport\u001B[39;00m \u001B[38;5;21;01mcopy\u001B[39;00m\n\u001B[1;32m      7\u001B[0m \u001B[38;5;28;01mimport\u001B[39;00m \u001B[38;5;21;01mio\u001B[39;00m\n\u001B[0;32m----> 9\u001B[0m \u001B[38;5;28;01mimport\u001B[39;00m \u001B[38;5;21;01mcairocffi\u001B[39;00m \u001B[38;5;28;01mas\u001B[39;00m \u001B[38;5;21;01mcairo\u001B[39;00m\n\u001B[1;32m     11\u001B[0m \u001B[38;5;28;01mfrom\u001B[39;00m \u001B[38;5;21;01m.\u001B[39;00m\u001B[38;5;21;01mcolors\u001B[39;00m \u001B[38;5;28;01mimport\u001B[39;00m color, negate_color\n\u001B[1;32m     12\u001B[0m \u001B[38;5;28;01mfrom\u001B[39;00m \u001B[38;5;21;01m.\u001B[39;00m\u001B[38;5;21;01mdefs\u001B[39;00m \u001B[38;5;28;01mimport\u001B[39;00m (\n\u001B[1;32m     13\u001B[0m     apply_filter_after_painting, apply_filter_before_painting, clip_path,\n\u001B[1;32m     14\u001B[0m     filter_, gradient_or_pattern, linear_gradient, marker, mask, paint_mask,\n\u001B[1;32m     15\u001B[0m     parse_all_defs, pattern, prepare_filter, radial_gradient, use)\n",
      "File \u001B[0;32m~/miniconda3/envs/CSSLAB/lib/python3.8/site-packages/cairocffi/__init__.py:60\u001B[0m\n\u001B[1;32m     55\u001B[0m     error_message \u001B[38;5;241m=\u001B[39m \u001B[38;5;124m'\u001B[39m\u001B[38;5;130;01m\\n\u001B[39;00m\u001B[38;5;124m'\u001B[39m\u001B[38;5;241m.\u001B[39mjoin(  \u001B[38;5;66;03m# pragma: no cover\u001B[39;00m\n\u001B[1;32m     56\u001B[0m         \u001B[38;5;28mstr\u001B[39m(exception) \u001B[38;5;28;01mfor\u001B[39;00m exception \u001B[38;5;129;01min\u001B[39;00m exceptions)\n\u001B[1;32m     57\u001B[0m     \u001B[38;5;28;01mraise\u001B[39;00m \u001B[38;5;167;01mOSError\u001B[39;00m(error_message)  \u001B[38;5;66;03m# pragma: no cover\u001B[39;00m\n\u001B[0;32m---> 60\u001B[0m cairo \u001B[38;5;241m=\u001B[39m \u001B[43mdlopen\u001B[49m\u001B[43m(\u001B[49m\n\u001B[1;32m     61\u001B[0m \u001B[43m    \u001B[49m\u001B[43mffi\u001B[49m\u001B[43m,\u001B[49m\u001B[43m \u001B[49m\u001B[43m(\u001B[49m\u001B[38;5;124;43m'\u001B[39;49m\u001B[38;5;124;43mcairo-2\u001B[39;49m\u001B[38;5;124;43m'\u001B[39;49m\u001B[43m,\u001B[49m\u001B[43m \u001B[49m\u001B[38;5;124;43m'\u001B[39;49m\u001B[38;5;124;43mcairo\u001B[39;49m\u001B[38;5;124;43m'\u001B[39;49m\u001B[43m,\u001B[49m\u001B[43m \u001B[49m\u001B[38;5;124;43m'\u001B[39;49m\u001B[38;5;124;43mlibcairo-2\u001B[39;49m\u001B[38;5;124;43m'\u001B[39;49m\u001B[43m)\u001B[49m\u001B[43m,\u001B[49m\n\u001B[1;32m     62\u001B[0m \u001B[43m    \u001B[49m\u001B[43m(\u001B[49m\u001B[38;5;124;43m'\u001B[39;49m\u001B[38;5;124;43mlibcairo.so.2\u001B[39;49m\u001B[38;5;124;43m'\u001B[39;49m\u001B[43m,\u001B[49m\u001B[43m \u001B[49m\u001B[38;5;124;43m'\u001B[39;49m\u001B[38;5;124;43mlibcairo.2.dylib\u001B[39;49m\u001B[38;5;124;43m'\u001B[39;49m\u001B[43m,\u001B[49m\u001B[43m \u001B[49m\u001B[38;5;124;43m'\u001B[39;49m\u001B[38;5;124;43mlibcairo-2.dll\u001B[39;49m\u001B[38;5;124;43m'\u001B[39;49m\u001B[43m)\u001B[49m\u001B[43m)\u001B[49m\n\u001B[1;32m     65\u001B[0m \u001B[38;5;28;01mclass\u001B[39;00m \u001B[38;5;21;01m_keepref\u001B[39;00m(\u001B[38;5;28mobject\u001B[39m):  \u001B[38;5;66;03m# noqa: N801\u001B[39;00m\n\u001B[1;32m     66\u001B[0m \u001B[38;5;250m    \u001B[39m\u001B[38;5;124;03m\"\"\"Function wrapper that keeps a reference to another object.\"\"\"\u001B[39;00m\n",
      "File \u001B[0;32m~/miniconda3/envs/CSSLAB/lib/python3.8/site-packages/cairocffi/__init__.py:57\u001B[0m, in \u001B[0;36mdlopen\u001B[0;34m(ffi, library_names, filenames)\u001B[0m\n\u001B[1;32m     53\u001B[0m         exceptions\u001B[38;5;241m.\u001B[39mappend(exception)\n\u001B[1;32m     55\u001B[0m error_message \u001B[38;5;241m=\u001B[39m \u001B[38;5;124m'\u001B[39m\u001B[38;5;130;01m\\n\u001B[39;00m\u001B[38;5;124m'\u001B[39m\u001B[38;5;241m.\u001B[39mjoin(  \u001B[38;5;66;03m# pragma: no cover\u001B[39;00m\n\u001B[1;32m     56\u001B[0m     \u001B[38;5;28mstr\u001B[39m(exception) \u001B[38;5;28;01mfor\u001B[39;00m exception \u001B[38;5;129;01min\u001B[39;00m exceptions)\n\u001B[0;32m---> 57\u001B[0m \u001B[38;5;28;01mraise\u001B[39;00m \u001B[38;5;167;01mOSError\u001B[39;00m(error_message)\n",
      "\u001B[0;31mOSError\u001B[0m: no library called \"cairo-2\" was found\nno library called \"cairo\" was found\nno library called \"libcairo-2\" was found\ncannot load library 'libcairo.so.2': dlopen(libcairo.so.2, 0x0002): tried: 'libcairo.so.2' (no such file), '/System/Volumes/Preboot/Cryptexes/OSlibcairo.so.2' (no such file), '/Users/alankritverma/miniconda3/envs/CSSLAB/bin/../lib/libcairo.so.2' (no such file), '/usr/lib/libcairo.so.2' (no such file, not in dyld cache), 'libcairo.so.2' (no such file).  Additionally, ctypes.util.find_library() did not manage to locate a library called 'libcairo.so.2'\ncannot load library 'libcairo.2.dylib': dlopen(libcairo.2.dylib, 0x0002): tried: 'libcairo.2.dylib' (no such file), '/System/Volumes/Preboot/Cryptexes/OSlibcairo.2.dylib' (no such file), '/Users/alankritverma/miniconda3/envs/CSSLAB/bin/../lib/libcairo.2.dylib' (no such file), '/usr/lib/libcairo.2.dylib' (no such file, not in dyld cache), 'libcairo.2.dylib' (no such file).  Additionally, ctypes.util.find_library() did not manage to locate a library called 'libcairo.2.dylib'\ncannot load library 'libcairo-2.dll': dlopen(libcairo-2.dll, 0x0002): tried: 'libcairo-2.dll' (no such file), '/System/Volumes/Preboot/Cryptexes/OSlibcairo-2.dll' (no such file), '/Users/alankritverma/miniconda3/envs/CSSLAB/bin/../lib/libcairo-2.dll' (no such file), '/usr/lib/libcairo-2.dll' (no such file, not in dyld cache), 'libcairo-2.dll' (no such file).  Additionally, ctypes.util.find_library() did not manage to locate a library called 'libcairo-2.dll'"
     ]
    }
   ],
   "source": [
    "# Import required libraries\n",
    "import chess\n",
    "import chess.engine\n",
    "import chess.pgn\n",
    "import chess.svg\n",
    "from cairosvg import svg2png\n",
    "import subprocess\n",
    "import os\n"
   ],
   "metadata": {
    "collapsed": false
   }
  },
  {
   "cell_type": "code",
   "execution_count": null,
   "outputs": [],
   "source": [
    "# ## Paths to Engines and Models\n",
    "\n",
    "# Paths to your engines and Maia models\n",
    "stockfish_path = \"/opt/homebrew/bin/stockfish\"\n",
    "maia_model_paths = {\n",
    "    1100: \"maia_weights/maia-1100.pb.gz\",\n",
    "    1200: \"maia_weights/maia-1200.pb.gz\",\n",
    "    1300: \"maia_weights/maia-1300.pb.gz\",\n",
    "    1400: \"maia_weights/maia-1400.pb.gz\",\n",
    "    1500: \"maia_weights/maia-1500.pb.gz\",\n",
    "    1600: \"maia_weights/maia-1600.pb.gz\",\n",
    "    1700: \"maia_weights/maia-1700.pb.gz\",\n",
    "    1800: \"maia_weights/maia-1800.pb.gz\",\n",
    "    1900: \"maia_weights/maia-1900.pb.gz\",\n",
    "}\n"
   ],
   "metadata": {
    "collapsed": false,
    "pycharm": {
     "name": "#%% [markdown]\n"
    }
   }
  },
  {
   "cell_type": "code",
   "execution_count": null,
   "outputs": [],
   "source": [
    "# ## Initialize Engines\n",
    "\n",
    "# Initialize Stockfish engine\n",
    "stockfish_engine = chess.engine.SimpleEngine.popen_uci(stockfish_path, stderr=subprocess.DEVNULL)\n",
    "\n",
    "# Initialize Maia engines\n",
    "maia_engines = {\n",
    "    elo: chess.engine.SimpleEngine.popen_uci([\"lc0\", f\"--weights={path}\"], stderr=subprocess.DEVNULL)\n",
    "    for elo, path in maia_model_paths.items()\n",
    "}\n"
   ],
   "metadata": {
    "collapsed": false,
    "pycharm": {
     "name": "#%% [markdown]\n"
    }
   }
  },
  {
   "cell_type": "code",
   "execution_count": null,
   "outputs": [],
   "source": [
    "# ## Load and Analyze Games\n",
    "\n",
    "def load_games_from_pgn(file_path):\n",
    "    games = []\n",
    "    with open(file_path, 'r') as pgn_file:\n",
    "        while True:\n",
    "            game = chess.pgn.read_game(pgn_file)\n",
    "            if game is None:\n",
    "                break\n",
    "            games.append(game)\n",
    "    return games\n",
    "\n",
    "def analyze_with_engines(game, stockfish_engine, maia_engines):\n",
    "    board = game.board()\n",
    "    blunders = []\n",
    "\n",
    "    for move in game.mainline_moves():\n",
    "        board.push(move)\n",
    "\n",
    "        # Analyze with Stockfish\n",
    "        stockfish_info = stockfish_engine.analyse(board, chess.engine.Limit(time=0.1))\n",
    "        stockfish_eval = stockfish_info[\"score\"].relative.score(mate_score=10000) / 100.0\n",
    "        stockfish_best_move = stockfish_info[\"pv\"][0] if \"pv\" in stockfish_info else None\n",
    "\n",
    "        # Define blunder threshold\n",
    "        if abs(stockfish_eval) > 1.5:\n",
    "            maia_suggestions = {}\n",
    "            for elo, maia_engine in maia_engines.items():\n",
    "                maia_info = maia_engine.analyse(board, chess.engine.Limit(nodes=1))\n",
    "                maia_eval = maia_info[\"score\"].relative.score(mate_score=10000) / 100.0\n",
    "                maia_best_move = maia_info[\"pv\"][0] if \"pv\" in maia_info else None\n",
    "                maia_suggestions[elo] = (maia_best_move, maia_eval)\n",
    "\n",
    "            blunders.append((board.fen(), move, stockfish_eval, stockfish_best_move, maia_suggestions))\n",
    "\n",
    "    return blunders\n",
    "\n",
    "def filter_best_blunders(blunders):\n",
    "    filtered_blunders = []\n",
    "    for fen, move, stockfish_eval, stockfish_best_move, maia_suggestions in blunders:\n",
    "        consistent_moves = all(\n",
    "            maia_suggestions[elo][0] == stockfish_best_move\n",
    "            for elo in maia_suggestions if elo > 1300\n",
    "        )\n",
    "        if consistent_moves:\n",
    "            filtered_blunders.append((fen, move, stockfish_eval, stockfish_best_move, maia_suggestions))\n",
    "    return filtered_blunders\n",
    "\n",
    "def output_blunder_analysis(blunders):\n",
    "    for fen, move, stockfish_eval, stockfish_best_move, maia_suggestions in blunders:\n",
    "        print(f\"Position: {fen}\")\n",
    "        print(f\"Blunder: {move}\")\n",
    "        print(f\"Stockfish Evaluation: {stockfish_eval}\")\n",
    "        print(f\"Stockfish Suggested Move: {stockfish_best_move}\")\n",
    "        for elo, (best_move, maia_eval) in maia_suggestions.items():\n",
    "            print(f\"Maia {elo} Evaluation: {maia_eval}, Suggested Move: {best_move}\")\n",
    "        print()\n",
    "\n",
    "# Load games from PGN file\n",
    "pgn_file_path = \"analysis_pgns/0KNdpNQd---1910 Lasker vs. Schlechter.pgn\"\n",
    "all_games = load_games_from_pgn(pgn_file_path)\n",
    "\n",
    "# Analyze games\n",
    "all_blunders = []\n",
    "for game in all_games:\n",
    "    blunders = analyze_with_engines(game, stockfish_engine, maia_engines)\n",
    "    filtered_blunders = filter_best_blunders(blunders)\n",
    "    if filtered_blunders:\n",
    "        all_blunders.append((game.headers[\"Event\"], filtered_blunders))\n",
    "\n",
    "# Output analysis\n",
    "for event, blunder_list in all_blunders:\n",
    "    print(f\"Event: {event}\")\n",
    "    output_blunder_analysis(blunder_list)\n"
   ],
   "metadata": {
    "collapsed": false,
    "pycharm": {
     "name": "#%% [markdown]\n"
    }
   }
  },
  {
   "cell_type": "code",
   "execution_count": null,
   "outputs": [],
   "source": [
    "# ## Generate Images for Critical Positions\n",
    "\n",
    "# Ensure you have cairosvg installed:\n",
    "# pip install cairosvg\n",
    "\n",
    "# Function to save board image with annotations\n",
    "def save_board_image(board, move=None, output_file=\"board.png\"):\n",
    "    svg_data = chess.svg.board(board, lastmove=move)\n",
    "    svg2png(bytestring=svg_data, write_to=output_file)\n",
    "\n",
    "# Function to highlight a move on the board\n",
    "def highlight_move(board, move, output_file=\"highlighted_board.png\"):\n",
    "    board.push(move)\n",
    "    save_board_image(board, move, output_file)\n",
    "    board.pop()  # Revert the move\n",
    "\n",
    "# Directory to save images\n",
    "image_dir = \"chess_images\"\n",
    "os.makedirs(image_dir, exist_ok=True)\n",
    "\n",
    "# Generate images for each critical position\n",
    "for event, blunder_list in all_blunders:\n",
    "    print(f\"Event: {event}\")\n",
    "    for i, (fen, move, stockfish_eval, stockfish_best_move, maia_suggestions) in enumerate(blunder_list):\n",
    "        board = chess.Board(fen)\n",
    "\n",
    "        # Save initial board state\n",
    "        initial_image_path = os.path.join(image_dir, f\"{event.replace(' ', '_')}_pos_{i}_initial.png\")\n",
    "        save_board_image(board, output_file=initial_image_path)\n",
    "\n",
    "        # Highlight the blunder move\n",
    "        blunder_image_path = os.path.join(image_dir, f\"{event.replace(' ', '_')}_pos_{i}_blunder.png\")\n",
    "        highlight_move(board, move, output_file=blunder_image_path)\n",
    "\n",
    "        # Highlight the correct move\n",
    "        correct_image_path = os.path.join(image_dir, f\"{event.replace(' ', '_')}_pos_{i}_correct.png\")\n",
    "        highlight_move(board, stockfish_best_move, output_file=correct_image_path)\n",
    "\n",
    "        print(f\"Position: {fen}\")\n",
    "        print(f\"Blunder: {move}\")\n",
    "        print(f\"Stockfish Evaluation: {stockfish_eval}\")\n",
    "        print(f\"Stockfish Suggested Move: {stockfish_best_move}\")\n",
    "        for elo, (best_move, maia_eval) in maia_suggestions.items():\n",
    "            print(f\"Maia {elo} Evaluation: {maia_eval}, Suggested Move: {best_move}\")\n",
    "        print(f\"Initial Image: {initial_image_path}\")\n",
    "        print(f\"Blunder Image: {blunder_image_path}\")\n",
    "        print(f\"Correct Move Image: {correct_image_path}\")\n",
    "        print()\n"
   ],
   "metadata": {
    "collapsed": false,
    "pycharm": {
     "name": "#%% [markdown]\n"
    }
   }
  },
  {
   "cell_type": "code",
   "execution_count": null,
   "outputs": [],
   "source": [
    "# ## Cleanup Engines\n",
    "\n",
    "# Cleanup\n",
    "stockfish_engine.quit()\n",
    "for maia_engine in maia_engines.values():\n",
    "    maia_engine.quit()"
   ],
   "metadata": {
    "collapsed": false,
    "pycharm": {
     "name": "#%% [markdown]\n"
    }
   }
  }
 ],
 "metadata": {
  "kernelspec": {
   "display_name": "Python 3",
   "language": "python",
   "name": "python3"
  },
  "language_info": {
   "codemirror_mode": {
    "name": "ipython",
    "version": 2
   },
   "file_extension": ".py",
   "mimetype": "text/x-python",
   "name": "python",
   "nbconvert_exporter": "python",
   "pygments_lexer": "ipython2",
   "version": "2.7.6"
  }
 },
 "nbformat": 4,
 "nbformat_minor": 0
}
