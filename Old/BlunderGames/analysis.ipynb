{
 "cells": [
  {
   "cell_type": "code",
   "execution_count": 6,
   "metadata": {
    "collapsed": true
   },
   "outputs": [],
   "source": [
    "import chess.pgn\n",
    "import os\n",
    "\n",
    "def load_games_from_pgn(file_path):\n",
    "    games = []\n",
    "    with open(file_path, 'r') as pgn_file:\n",
    "        while True:\n",
    "            game = chess.pgn.read_game(pgn_file)\n",
    "            if game is None:\n",
    "                break\n",
    "            games.append(game)\n",
    "    return games\n",
    "\n",
    "# Example usage\n",
    "pgn_files = [\"analysis_pgns/0KNdpNQd---1910 Lasker vs. Schlechter.pgn\"]\n",
    "all_games = []\n",
    "for pgn_file in pgn_files:\n",
    "    all_games.extend(load_games_from_pgn(pgn_file))"
   ]
  },
  {
   "cell_type": "code",
   "execution_count": 7,
   "outputs": [],
   "source": [
    "import chess.engine\n",
    "\n",
    "def analyze_game(game, engine):\n",
    "    board = game.board()\n",
    "    blunders = []\n",
    "    for move in game.mainline_moves():\n",
    "        board.push(move)\n",
    "        info = engine.analyse(board, chess.engine.Limit(time=0.1))\n",
    "        evaluation = info[\"score\"].relative.score(mate_score=10000) / 100.0\n",
    "        if 'score' in info:\n",
    "            evaluation = info[\"score\"].relative.score(mate_score=10000) / 100.0\n",
    "        else:\n",
    "            evaluation = 0\n",
    "        # Assuming blunder threshold is a drop of -1.5\n",
    "        if abs(evaluation) > 1.5:\n",
    "            blunders.append((board.fen(), move, evaluation))\n",
    "    return blunders\n",
    "\n",
    "with chess.engine.SimpleEngine.popen_uci(\"/opt/homebrew/bin/stockfish\") as engine:\n",
    "    all_blunders = []\n",
    "    for game in all_games:\n",
    "        blunders = analyze_game(game, engine)\n",
    "        all_blunders.append((game.headers[\"Event\"], blunders))"
   ],
   "metadata": {
    "collapsed": false
   }
  },
  {
   "cell_type": "code",
   "execution_count": 8,
   "outputs": [
    {
     "data": {
      "text/plain": "[('World Championship Match 1910',\n  [('7r/2R5/3p3k/p2Nnp2/r6P/6P1/2P3K1/4R3 w - - 1 46',\n    Move.from_uci('g5h6'),\n    1.78),\n   ('8/7k/5R2/5p1P/r7/6PK/8/8 w - - 5 70', Move.from_uci('c4a4'), 3.58)]),\n ('World Championship Match 1910',\n  [('4k2r/1r2bppp/4b3/1ppp4/4nB2/NBP2P2/1P4PP/R4RK1 b k - 0 17',\n    Move.from_uci('f2f3'),\n    1.51)]),\n ('World Championship Match 1910', []),\n ('World Championship Match 1910', []),\n ('World Championship Match 1910',\n  [('8/2k3p1/q1pp1p2/4r1p1/1Q2P1P1/7P/5PK1/1R6 b - - 7 44',\n    Move.from_uci('d4b4'),\n    2.02),\n   ('8/2k3p1/2pp1p2/1q2r1p1/1Q2P1P1/7P/5PK1/1R6 w - - 8 45',\n    Move.from_uci('a6b5'),\n    -2.14),\n   ('8/2k3p1/2pp1p2/1q2r1p1/4P1P1/7P/5PK1/1R2Q3 b - - 9 45',\n    Move.from_uci('b4e1'),\n    2.28),\n   ('8/2k3p1/2pp1p2/4r1p1/4P1P1/3q3P/5PK1/1R2Q3 w - - 10 46',\n    Move.from_uci('b5d3'),\n    -2.14),\n   ('8/2k3p1/2pp1p2/4r1p1/1R2P1P1/3q3P/5PK1/4Q3 b - - 11 46',\n    Move.from_uci('b1b4'),\n    2.14),\n   ('8/2k3p1/3p1p2/2p1r1p1/1R2P1P1/3q3P/5PK1/4Q3 w - - 0 47',\n    Move.from_uci('c6c5'),\n    -1.54),\n   ('8/2k3p1/3p1p2/2p1r1p1/R3P1P1/3q3P/5PK1/4Q3 b - - 1 47',\n    Move.from_uci('b4a4'),\n    1.73),\n   ('Rr6/2k3p1/Q4p2/2qp2p1/2p3P1/7P/5PK1/8 w - - 6 56',\n    Move.from_uci('b5b8'),\n    3.69),\n   ('1r6/R1k3p1/Q4p2/2qp2p1/2p3P1/7P/5PK1/8 b - - 7 56',\n    Move.from_uci('a8a7'),\n    -3.53),\n   ('1r1k4/R5p1/Q4p2/2qp2p1/2p3P1/7P/5PK1/8 w - - 8 57',\n    Move.from_uci('c7d8'),\n    5.72),\n   ('1r1k4/6R1/Q4p2/2qp2p1/2p3P1/7P/5PK1/8 b - - 0 57',\n    Move.from_uci('a7g7'),\n    -6.02),\n   ('1r1k4/6R1/Qq3p2/3p2p1/2p3P1/7P/5PK1/8 w - - 1 58',\n    Move.from_uci('c5b6'),\n    7.16),\n   ('1r1k4/6R1/1q3p2/3p2p1/2p3P1/Q6P/5PK1/8 b - - 2 58',\n    Move.from_uci('a6a3'),\n    -7.73),\n   ('1rk5/6R1/1q3p2/3p2p1/2p3P1/Q6P/5PK1/8 w - - 3 59',\n    Move.from_uci('d8c8'),\n    99.97)]),\n ('World Championship Match 1910', []),\n ('World Championship Match 1910', []),\n ('World Championship Match 1910', []),\n ('World Championship Match 1910',\n  [('8/1p4p1/p1k4p/1n6/2P3r1/1N1R2P1/P1PK4/8 b - - 2 55',\n    Move.from_uci('d7d3'),\n    1.87),\n   ('8/1p4p1/p1kn3p/8/2P3r1/1N1R2P1/P1PK4/8 w - - 3 56',\n    Move.from_uci('b5d6'),\n    -1.82),\n   ('8/1p4p1/p1kn3p/8/2PN2r1/3R2P1/P1PK4/8 b - - 4 56',\n    Move.from_uci('b3d4'),\n    2.09)]),\n ('World Championship Match 1910',\n  [('r4rk1/pb2ppb1/n1p3p1/3q4/N1QP4/P2BP3/3B1P1P/2R1K1R1 w - - 8 22',\n    Move.from_uci('c8b7'),\n    1.64),\n   ('6k1/p3p1b1/3n4/2NR4/8/PK1Q4/5q2/8 w - - 14 50',\n    Move.from_uci('h6g7'),\n    1.53),\n   ('8/p3pkN1/3n4/3R4/K7/P2Q4/1q6/8 b - - 0 52', Move.from_uci('e6g7'), -1.51),\n   ('8/p3pkq1/3n4/3R4/K7/P2Q4/8/8 w - - 0 53', Move.from_uci('b2g7'), 1.54),\n   ('8/p3pkq1/3n4/3R4/K7/PQ6/8/8 b - - 1 53', Move.from_uci('d3b3'), -1.52),\n   ('4k3/p3p1q1/3n4/3R4/K7/PQ6/8/8 w - - 2 54', Move.from_uci('f7e8'), 1.52),\n   ('1Q2k3/p3p1q1/3n4/3R4/K7/P7/8/8 b - - 3 54', Move.from_uci('b3b8'), -1.6),\n   ('1Q6/p3pkq1/3n4/3R4/K7/P7/8/8 w - - 4 55', Move.from_uci('e8f7'), 1.66),\n   ('8/Q3pkq1/3n4/3R4/K7/P7/8/8 b - - 0 55', Move.from_uci('b8a7'), -1.71),\n   ('8/Q3pk2/3n4/3R4/K5q1/P7/8/8 w - - 1 56', Move.from_uci('g7g4'), 2.14),\n   ('8/4pk2/3n4/3R4/K2Q2q1/P7/8/8 b - - 2 56', Move.from_uci('a7d4'), -2.2),\n   ('8/3qpk2/3n4/3R4/K2Q4/P7/8/8 w - - 3 57', Move.from_uci('g4d7'), 2.21),\n   ('8/3qpk2/3n4/3R4/3Q4/PK6/8/8 b - - 4 57', Move.from_uci('a4b3'), -2.17),\n   ('8/1q2pk2/3n4/3R4/3Q4/PK6/8/8 w - - 5 58', Move.from_uci('d7b7'), 2.34),\n   ('8/1q2pk2/3n4/3R4/3Q4/P7/K7/8 b - - 6 58', Move.from_uci('b3a2'), -2.41),\n   ('8/4pk2/2qn4/3R4/3Q4/P7/K7/8 w - - 7 59', Move.from_uci('b7c6'), 2.35),\n   ('8/4pk2/2qn4/3R4/8/P2Q4/K7/8 b - - 8 59', Move.from_uci('d4d3'), -2.19),\n   ('8/4p3/2qnk3/3R4/8/P2Q4/K7/8 w - - 9 60', Move.from_uci('f7e6'), 2.33),\n   ('8/4p3/2qnk3/6R1/8/P2Q4/K7/8 b - - 10 60', Move.from_uci('d5g5'), -2.44),\n   ('8/3kp3/2qn4/6R1/8/P2Q4/K7/8 w - - 11 61', Move.from_uci('e6d7'), 2.39),\n   ('8/3kp3/2qn4/4R3/8/P2Q4/K7/8 b - - 12 61', Move.from_uci('g5e5'), -2.48),\n   ('8/3kp3/3n4/4R3/8/P2Q4/K5q1/8 w - - 13 62', Move.from_uci('c6g2'), 2.48),\n   ('8/3kp3/3n4/8/8/P2Q4/K3R1q1/8 b - - 14 62', Move.from_uci('e5e2'), -2.39),\n   ('8/3kp3/3n4/8/6q1/P2Q4/K3R3/8 w - - 15 63', Move.from_uci('g2g4'), 2.46),\n   ('8/3kp3/3n4/8/6q1/P2Q4/K2R4/8 b - - 16 63', Move.from_uci('e2d2'), -2.46),\n   ('8/3kp3/3n4/8/q7/P2Q4/K2R4/8 w - - 17 64', Move.from_uci('g4a4'), 2.6),\n   ('8/3kp3/3n4/5Q2/q7/P7/K2R4/8 b - - 18 64', Move.from_uci('d3f5'), -2.51),\n   ('8/2k1p3/3n4/5Q2/q7/P7/K2R4/8 w - - 19 65', Move.from_uci('d7c7'), 3.12),\n   ('8/2k1p3/3n4/8/q7/P7/K1QR4/8 b - - 20 65', Move.from_uci('f5c2'), -3.19),\n   ('8/2k1p3/3n4/8/8/P7/K1qR4/8 w - - 0 66', Move.from_uci('a4c2'), 3.27),\n   ('8/2k1p3/3n4/8/8/P7/K1R5/8 b - - 0 66', Move.from_uci('d2c2'), -3.38),\n   ('8/1k2p3/3n4/8/8/P7/K1R5/8 w - - 1 67', Move.from_uci('c7b7'), 3.14),\n   ('8/1k2p3/3n4/8/8/P7/K3R3/8 b - - 2 67', Move.from_uci('c2e2'), -3.14),\n   ('2n5/1k2p3/8/8/8/P7/K3R3/8 w - - 3 68', Move.from_uci('d6c8'), 3.56),\n   ('2n5/1k2p3/8/8/8/PK6/4R3/8 b - - 4 68', Move.from_uci('a2b3'), -3.59),\n   ('2n5/4p3/2k5/8/8/PK6/4R3/8 w - - 5 69', Move.from_uci('b7c6'), 3.7),\n   ('2n5/4p3/2k5/8/8/PK6/2R5/8 b - - 6 69', Move.from_uci('e2c2'), -3.72),\n   ('2n5/1k2p3/8/8/8/PK6/2R5/8 w - - 7 70', Move.from_uci('c6b7'), 3.87),\n   ('2n5/1k2p3/8/8/1K6/P7/2R5/8 b - - 8 70', Move.from_uci('b3b4'), -3.64),\n   ('8/nk2p3/8/8/1K6/P7/2R5/8 w - - 9 71', Move.from_uci('c8a7'), 3.92),\n   ('8/nk2p3/8/2K5/8/P7/2R5/8 b - - 10 71', Move.from_uci('b4c5'), -3.83)])]"
     },
     "execution_count": 8,
     "metadata": {},
     "output_type": "execute_result"
    }
   ],
   "source": [
    "all_blunders"
   ],
   "metadata": {
    "collapsed": false
   }
  },
  {
   "cell_type": "code",
   "execution_count": 9,
   "outputs": [
    {
     "name": "stdout",
     "output_type": "stream",
     "text": [
      "Event: World Championship Match 1910\n",
      "Position: 8/1q2pk2/3n4/3R4/3Q4/P7/K7/8 b - - 6 58\n",
      "Blunder: b3a2\n",
      "Evaluation: -2.41\n",
      "Event: World Championship Match 1910\n",
      "Position: 1Q2k3/p3p1q1/3n4/3R4/K7/P7/8/8 b - - 3 54\n",
      "Blunder: b3b8\n",
      "Evaluation: -1.6\n",
      "Event: World Championship Match 1910\n",
      "Position: 8/1q2pk2/3n4/3R4/3Q4/PK6/8/8 w - - 5 58\n",
      "Blunder: d7b7\n",
      "Evaluation: 2.34\n",
      "Event: World Championship Match 1910\n",
      "Position: 8/2k3p1/2pp1p2/1q2r1p1/4P1P1/7P/5PK1/1R2Q3 b - - 9 45\n",
      "Blunder: b4e1\n",
      "Evaluation: 2.28\n",
      "Event: World Championship Match 1910\n",
      "Position: 8/2k3p1/3p1p2/2p1r1p1/1R2P1P1/3q3P/5PK1/4Q3 w - - 0 47\n",
      "Blunder: c6c5\n",
      "Evaluation: -1.54\n",
      "Event: World Championship Match 1910\n",
      "Position: 8/3kp3/3n4/8/6q1/P2Q4/K2R4/8 b - - 16 63\n",
      "Blunder: e2d2\n",
      "Evaluation: -2.46\n",
      "Event: World Championship Match 1910\n",
      "Position: 1r1k4/6R1/Q4p2/2qp2p1/2p3P1/7P/5PK1/8 b - - 0 57\n",
      "Blunder: a7g7\n",
      "Evaluation: -6.02\n",
      "Event: World Championship Match 1910\n",
      "Position: 1r1k4/R5p1/Q4p2/2qp2p1/2p3P1/7P/5PK1/8 w - - 8 57\n",
      "Blunder: c7d8\n",
      "Evaluation: 5.72\n",
      "Event: World Championship Match 1910\n",
      "Position: 8/3kp3/2qn4/4R3/8/P2Q4/K7/8 b - - 12 61\n",
      "Blunder: g5e5\n",
      "Evaluation: -2.48\n",
      "Event: World Championship Match 1910\n",
      "Position: 8/4p3/2qnk3/6R1/8/P2Q4/K7/8 b - - 10 60\n",
      "Blunder: d5g5\n",
      "Evaluation: -2.44\n"
     ]
    }
   ],
   "source": [
    "import random\n",
    "\n",
    "def create_blunder_quiz(blunders):\n",
    "    questions = []\n",
    "    for event, blunder_list in blunders:\n",
    "        for fen, move, evaluation in blunder_list:\n",
    "            questions.append((event, fen, move, evaluation))\n",
    "    return random.sample(questions, min(len(questions), 10))\n",
    "\n",
    "quiz = create_blunder_quiz(all_blunders)\n",
    "\n",
    "for event, fen, move, evaluation in quiz:\n",
    "    print(f\"Event: {event}\")\n",
    "    print(f\"Position: {fen}\")\n",
    "    print(f\"Blunder: {move}\")\n",
    "    print(f\"Evaluation: {evaluation}\")"
   ],
   "metadata": {
    "collapsed": false
   }
  },
  {
   "cell_type": "code",
   "execution_count": null,
   "outputs": [],
   "source": [],
   "metadata": {
    "collapsed": false
   }
  }
 ],
 "metadata": {
  "kernelspec": {
   "display_name": "Python 3",
   "language": "python",
   "name": "python3"
  },
  "language_info": {
   "codemirror_mode": {
    "name": "ipython",
    "version": 2
   },
   "file_extension": ".py",
   "mimetype": "text/x-python",
   "name": "python",
   "nbconvert_exporter": "python",
   "pygments_lexer": "ipython2",
   "version": "2.7.6"
  }
 },
 "nbformat": 4,
 "nbformat_minor": 0
}
