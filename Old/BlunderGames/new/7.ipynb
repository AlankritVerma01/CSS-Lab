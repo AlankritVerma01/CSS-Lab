{
 "cells": [
  {
   "cell_type": "code",
   "execution_count": 23,
   "metadata": {
    "collapsed": true
   },
   "outputs": [
    {
     "name": "stdout",
     "output_type": "stream",
     "text": [
      "Initializing Stockfish engine...\n"
     ]
    },
    {
     "name": "stderr",
     "output_type": "stream",
     "text": [
      "<UciProtocol (pid=19242)>: stderr >> \u001B[1m\u001B[31m       _\n",
      "<UciProtocol (pid=19242)>: stderr >> |   _ | |\n",
      "<UciProtocol (pid=19242)>: stderr >> |_ |_ |_|\u001B[0m v0.30.0+git.dirty built Jul 21 2023\n",
      "<UciProtocol (pid=19243)>: stderr >> \u001B[1m\u001B[31m       _\n",
      "<UciProtocol (pid=19243)>: stderr >> |   _ | |\n",
      "<UciProtocol (pid=19243)>: stderr >> |_ |_ |_|\u001B[0m v0.30.0+git.dirty built Jul 21 2023\n",
      "<UciProtocol (pid=19244)>: stderr >> \u001B[1m\u001B[31m       _\n",
      "<UciProtocol (pid=19244)>: stderr >> |   _ | |\n",
      "<UciProtocol (pid=19244)>: stderr >> |_ |_ |_|\u001B[0m v0.30.0+git.dirty built Jul 21 2023\n",
      "<UciProtocol (pid=19245)>: stderr >> \u001B[1m\u001B[31m       _\n",
      "<UciProtocol (pid=19245)>: stderr >> |   _ | |\n",
      "<UciProtocol (pid=19245)>: stderr >> |_ |_ |_|\u001B[0m v0.30.0+git.dirty built Jul 21 2023\n",
      "<UciProtocol (pid=19246)>: stderr >> \u001B[1m\u001B[31m       _\n",
      "<UciProtocol (pid=19246)>: stderr >> |   _ | |\n",
      "<UciProtocol (pid=19246)>: stderr >> |_ |_ |_|\u001B[0m v0.30.0+git.dirty built Jul 21 2023\n",
      "<UciProtocol (pid=19247)>: stderr >> \u001B[1m\u001B[31m       _\n",
      "<UciProtocol (pid=19247)>: stderr >> |   _ | |\n",
      "<UciProtocol (pid=19247)>: stderr >> |_ |_ |_|\u001B[0m v0.30.0+git.dirty built Jul 21 2023\n",
      "<UciProtocol (pid=19248)>: stderr >> \u001B[1m\u001B[31m       _\n",
      "<UciProtocol (pid=19248)>: stderr >> |   _ | |\n",
      "<UciProtocol (pid=19248)>: stderr >> |_ |_ |_|\u001B[0m v0.30.0+git.dirty built Jul 21 2023\n",
      "<UciProtocol (pid=19250)>: stderr >> \u001B[1m\u001B[31m       _\n",
      "<UciProtocol (pid=19250)>: stderr >> |   _ | |\n",
      "<UciProtocol (pid=19250)>: stderr >> |_ |_ |_|\u001B[0m v0.30.0+git.dirty built Jul 21 2023\n",
      "<UciProtocol (pid=19251)>: stderr >> \u001B[1m\u001B[31m       _\n",
      "<UciProtocol (pid=19251)>: stderr >> |   _ | |\n",
      "<UciProtocol (pid=19251)>: stderr >> |_ |_ |_|\u001B[0m v0.30.0+git.dirty built Jul 21 2023\n"
     ]
    },
    {
     "name": "stdout",
     "output_type": "stream",
     "text": [
      "Stockfish engine initialized.\n",
      "Initializing Maia engines...\n",
      "Maia 1100 engine initialized.\n",
      "Maia 1200 engine initialized.\n",
      "Maia 1300 engine initialized.\n",
      "Maia 1400 engine initialized.\n",
      "Maia 1500 engine initialized.\n",
      "Maia 1600 engine initialized.\n",
      "Maia 1700 engine initialized.\n",
      "Maia 1800 engine initialized.\n",
      "Maia 1900 engine initialized.\n",
      "Maia engines initialized.\n"
     ]
    }
   ],
   "source": [
    "# Part 1: Initialization and Loading PGN Files\n",
    "\n",
    "# Import required libraries\n",
    "import chess\n",
    "import chess.engine\n",
    "import chess.pgn\n",
    "import subprocess\n",
    "import os\n",
    "import json\n",
    "import csv\n",
    "from IPython.display import display\n",
    "\n",
    "# Paths to your engines and Maia models\n",
    "stockfish_path = \"/opt/homebrew/bin/stockfish\"\n",
    "maia_model_paths = {\n",
    "    1100: \"maia_weights/maia-1100.pb.gz\",\n",
    "    1200: \"maia_weights/maia-1200.pb.gz\",\n",
    "    1300: \"maia_weights/maia-1300.pb.gz\",\n",
    "    1400: \"maia_weights/maia-1400.pb.gz\",\n",
    "    1500: \"maia_weights/maia-1500.pb.gz\",\n",
    "    1600: \"maia_weights/maia-1600.pb.gz\",\n",
    "    1700: \"maia_weights/maia-1700.pb.gz\",\n",
    "    1800: \"maia_weights/maia-1800.pb.gz\",\n",
    "    1900: \"maia_weights/maia-1900.pb.gz\",\n",
    "}\n",
    "\n",
    "# Initialize Stockfish engine\n",
    "print(\"Initializing Stockfish engine...\")\n",
    "stockfish_engine = chess.engine.SimpleEngine.popen_uci(stockfish_path)\n",
    "print(\"Stockfish engine initialized.\")\n",
    "\n",
    "# Initialize Maia engines\n",
    "print(\"Initializing Maia engines...\")\n",
    "maia_engines = {}\n",
    "for elo, path in maia_model_paths.items():\n",
    "    maia_engines[elo] = chess.engine.SimpleEngine.popen_uci([\"lc0\", f\"--weights={path}\"])\n",
    "    print(f\"Maia {elo} engine initialized.\")\n",
    "print(\"Maia engines initialized.\")\n"
   ]
  },
  {
   "cell_type": "code",
   "execution_count": 24,
   "outputs": [],
   "source": [
    "# Function to load games from a PGN file\n",
    "def load_games_from_pgn(file_path):\n",
    "    games = []\n",
    "    with open(file_path, 'r') as pgn_file:\n",
    "        while True:\n",
    "            game = chess.pgn.read_game(pgn_file)\n",
    "            if game is None:\n",
    "                break\n",
    "            games.append(game)\n",
    "    print(f\"Loaded {len(games)} games from PGN file {file_path}.\")\n",
    "    return games\n"
   ],
   "metadata": {
    "collapsed": false
   }
  },
  {
   "cell_type": "code",
   "execution_count": 25,
   "outputs": [],
   "source": [
    "# Function to find classic puzzles in a game\n",
    "def find_classic_puzzles(game, stockfish_engine, threshold=200):\n",
    "    board = game.board()\n",
    "    puzzles = []\n",
    "\n",
    "    for move in game.mainline_moves():\n",
    "        fen_before = board.fen()\n",
    "\n",
    "        # Analyze the position before the move\n",
    "        info = stockfish_engine.analyse(board, chess.engine.Limit(time=0.1), multipv=2)\n",
    "        #print(info)\n",
    "        if len(info) < 2:\n",
    "            continue\n",
    "\n",
    "        best_move = info[0][\"pv\"][0]\n",
    "        best_eval = info[0][\"score\"].relative.score(mate_score=10000)\n",
    "        second_best_eval = info[1][\"score\"].relative.score(mate_score=10000)\n",
    "        #print(board.is_capture(best_move))\n",
    "        # Check if the difference is large enough and the move is not a simple recapture\n",
    "        if abs(best_eval - second_best_eval) >= threshold and not board.is_capture(best_move):\n",
    "            puzzles.append((fen_before, best_move, best_eval, second_best_eval))\n",
    "            print(f\"Puzzle found: {fen_before}, Best move: {best_move}, Eval difference: {abs(best_eval - second_best_eval)}\")\n",
    "\n",
    "        board.push(move)\n",
    "\n",
    "    return puzzles"
   ],
   "metadata": {
    "collapsed": false
   }
  },
  {
   "cell_type": "code",
   "execution_count": 37,
   "outputs": [],
   "source": [
    "# Function to evaluate Maia easiness\n",
    "def evaluate_maia_easiness(fen, best_move, maia_engines):\n",
    "    board = chess.Board(fen)\n",
    "    easiness_scores = {}\n",
    "    print(f\"Evaluating Maia easiness for FEN: {fen}, Best Move: {best_move}\")\n",
    "\n",
    "    for elo, engine in maia_engines.items():\n",
    "        result = engine.analyse(board, chess.engine.Limit(nodes=1))\n",
    "        print(f\"Maia {elo} evaluation: {result}\")\n",
    "        if \"pv\" in result and best_move in result[\"pv\"]:\n",
    "            print(f\"Best move found in PV: {result['pv']}\")\n",
    "            easiness_scores[elo] = result[\"pv\"].index(best_move) / len(result[\"pv\"])\n",
    "        else:\n",
    "            easiness_scores[elo] = 0.0  # Assign 0 if the best move is not in pv\n",
    "\n",
    "    return easiness_scores"
   ],
   "metadata": {
    "collapsed": false
   }
  },
  {
   "cell_type": "code",
   "execution_count": 27,
   "outputs": [
    {
     "name": "stdout",
     "output_type": "stream",
     "text": [
      "Starting to find classic puzzles in PGN files...\n",
      "Loaded 7 games from PGN file analysis_pgns_test/TFFyOff1---1908 Lasker vs. Tarrasch.pgn.\n",
      "Analyzing game World Championship Match 1908\n",
      "Analyzing game World Championship Match 1908\n",
      "Puzzle found: 3rr3/p1pqbpkp/2pp4/5N2/4P3/1P6/P1P2KPP/R2QR3 b - - 1 17, Best move: g7h8, Eval difference: 233\n",
      "Puzzle found: 3rr2k/p1pqbp1p/2pp4/5N2/3QP3/1P6/P1P2KPP/R3R3 b - - 3 18, Best move: f7f6, Eval difference: 9826\n",
      "Puzzle found: 4r2k/2p4p/8/6r1/3p1p2/1P1NbQ2/P1P1R1Pq/R3K3 w - - 0 35, Best move: e1d1, Eval difference: 208\n",
      "Puzzle found: 4r2k/2p4p/8/6r1/3p1p2/1P1NbQ2/P1P1R1P1/R2K2q1 w - - 2 36, Best move: d3e1, Eval difference: 260\n",
      "Puzzle found: 3Q4/4r1kp/4r3/8/P2p1p2/1P2b3/2P1R1P1/R2KN1q1 b - - 0 40, Best move: f4f3, Eval difference: 243\n",
      "Puzzle found: 3Q4/4r1kp/4r3/8/P2p4/1P2bP2/2P1R3/R2KN1q1 b - - 0 41, Best move: e3g5, Eval difference: 471\n",
      "Analyzing game World Championship Match 1908\n",
      "Puzzle found: r1bqk2r/2ppbppp/p1n2n2/1p2p3/B3P3/5N2/PPPP1PPP/RNBQR1K1 w kq - 0 7, Best move: a4b3, Eval difference: 329\n",
      "Puzzle found: 2b4k/4Q2p/pq1p2p1/1p1Bn3/4P3/4R2P/PP3KN1/3q4 b - - 0 36, Best move: d1f3, Eval difference: 543\n",
      "Puzzle found: 2b4k/4Q2p/pq1p2p1/1p1Bn3/4P3/4Rq1P/PP3KN1/8 w - - 1 37, Best move: f2g1, Eval difference: 9067\n",
      "Puzzle found: 2b4k/4Q2p/pq1p2p1/1p1Bn3/4P3/4Rq1P/PP4N1/4K3 b - - 2 37, Best move: e5d3, Eval difference: 9135\n",
      "Puzzle found: 2b4k/4Q2p/p2p2p1/qp1Bn3/4P3/4Rq1P/PP4N1/4K3 w - - 3 38, Best move: e3c3, Eval difference: 9487\n",
      "Analyzing game World Championship Match 1908\n",
      "Puzzle found: 4r1k1/1pp2pp1/1n1p1q1p/2r5/pP1NPP2/2P2Q2/P5PP/3RR1K1 b - - 0 22, Best move: c5c4, Eval difference: 264\n",
      "Puzzle found: 6k1/1p3pp1/1n1r1q1p/1N2P3/pp3P2/2P1RQ2/P6P/6K1 b - - 0 28, Best move: f6g6, Eval difference: 527\n",
      "Analyzing game World Championship Match 1908\n",
      "Puzzle found: r1bqk2r/2ppbppp/p1n2n2/1p2p3/B3P3/5N2/PPPP1PPP/RNBQR1K1 w kq - 0 7, Best move: a4b3, Eval difference: 327\n",
      "Puzzle found: r1r3k1/3nbp2/pq1pb2p/1p2P1p1/3p4/3Q2BP/PP3PP1/1B1RRNK1 b - - 0 22, Best move: d7f8, Eval difference: 249\n",
      "Puzzle found: 5k1r/2r2b2/p1q5/1p1pRN2/8/4Q2P/PP4P1/4R2K w - - 4 38, Best move: e3g5, Eval difference: 208\n",
      "Analyzing game World Championship Match 1908\n",
      "Analyzing game World Championship Match 1908\n",
      "Puzzle found: 3r4/p3kp1p/5p2/1Rn1p3/8/2P1P1N1/P1P2RPP/3r2K1 w - - 5 24, Best move: f2f1, Eval difference: 255\n"
     ]
    }
   ],
   "source": [
    "# Load PGN files and find classic puzzles\n",
    "pgn_directory = \"analysis_pgns_test\"\n",
    "all_puzzles = []\n",
    "\n",
    "print(\"Starting to find classic puzzles in PGN files...\")\n",
    "test_path = os.path.join(pgn_directory, \"TFFyOff1---1908 Lasker vs. Tarrasch.pgn\")\n",
    "all_games = load_games_from_pgn(test_path)\n",
    "for game in all_games:\n",
    "    print(f\"Analyzing game {game.headers.get('Event', 'Unknown Event')}\")\n",
    "    puzzles = find_classic_puzzles(game, stockfish_engine)\n",
    "    all_puzzles.extend(puzzles)\n"
   ],
   "metadata": {
    "collapsed": false
   }
  },
  {
   "cell_type": "code",
   "execution_count": 28,
   "outputs": [
    {
     "data": {
      "text/plain": "[('3r4/p3kp1p/5p2/1Rn1p3/8/2P1P1N1/P1P2RPP/3r2K1 w - - 5 24',\n  Move.from_uci('f2f1'),\n  70,\n  -185)]"
     },
     "execution_count": 28,
     "metadata": {},
     "output_type": "execute_result"
    }
   ],
   "source": [
    "puzzles"
   ],
   "metadata": {
    "collapsed": false
   }
  },
  {
   "cell_type": "code",
   "execution_count": null,
   "outputs": [],
   "source": [],
   "metadata": {
    "collapsed": false
   }
  },
  {
   "cell_type": "code",
   "execution_count": 38,
   "outputs": [
    {
     "name": "stdout",
     "output_type": "stream",
     "text": [
      "Evaluating Maia easiness for FEN: 3r4/p3kp1p/5p2/1Rn1p3/8/2P1P1N1/P1P2RPP/3r2K1 w - - 5 24, Best Move: f2f1\n",
      "Maia 1100 evaluation: {'depth': 1, 'seldepth': 0, 'time': 0.0, 'nodes': 1, 'score': PovScore(Cp(-32), WHITE), 'tbhits': 0, 'pv': [Move.from_uci('g3f1')]}\n",
      "Maia 1200 evaluation: {'depth': 1, 'seldepth': 0, 'time': 0.0, 'nodes': 1, 'score': PovScore(Cp(-12), WHITE), 'tbhits': 0, 'pv': [Move.from_uci('f2f1')]}\n",
      "Best move found in PV: [Move.from_uci('f2f1')]\n",
      "Maia 1300 evaluation: {'depth': 1, 'seldepth': 0, 'time': 0.0, 'nodes': 1, 'score': PovScore(Cp(-264), WHITE), 'tbhits': 0, 'pv': [Move.from_uci('f2f1')]}\n",
      "Best move found in PV: [Move.from_uci('f2f1')]\n",
      "Maia 1400 evaluation: {'depth': 1, 'seldepth': 0, 'time': 0.0, 'nodes': 1, 'score': PovScore(Cp(+6), WHITE), 'tbhits': 0, 'pv': [Move.from_uci('g3f1')]}\n",
      "Maia 1500 evaluation: {'depth': 1, 'seldepth': 0, 'time': 0.0, 'nodes': 1, 'score': PovScore(Cp(+7), WHITE), 'tbhits': 0, 'pv': [Move.from_uci('f2f1')]}\n",
      "Best move found in PV: [Move.from_uci('f2f1')]\n",
      "Maia 1600 evaluation: {'depth': 1, 'seldepth': 0, 'time': 0.0, 'nodes': 1, 'score': PovScore(Cp(+35), WHITE), 'tbhits': 0, 'pv': [Move.from_uci('g3f1')]}\n",
      "Maia 1700 evaluation: {'depth': 1, 'seldepth': 0, 'time': 0.0, 'nodes': 1, 'score': PovScore(Cp(-31), WHITE), 'tbhits': 0, 'pv': [Move.from_uci('g3f1')]}\n",
      "Maia 1800 evaluation: {'depth': 1, 'seldepth': 0, 'time': 0.0, 'nodes': 1, 'score': PovScore(Cp(-47), WHITE), 'tbhits': 0, 'pv': [Move.from_uci('g3f1')]}\n",
      "Maia 1900 evaluation: {'depth': 1, 'seldepth': 0, 'time': 0.0, 'nodes': 1, 'score': PovScore(Cp(-70), WHITE), 'tbhits': 0, 'pv': [Move.from_uci('f2f1')]}\n",
      "Best move found in PV: [Move.from_uci('f2f1')]\n"
     ]
    }
   ],
   "source": [
    "for fen, best_move, best_eval, second_best_eval in puzzles:\n",
    "    easiness_scores = evaluate_maia_easiness(fen, best_move, maia_engines)\n",
    "    #print(easiness_scores)"
   ],
   "metadata": {
    "collapsed": false
   }
  },
  {
   "cell_type": "code",
   "execution_count": null,
   "outputs": [],
   "source": [],
   "metadata": {
    "collapsed": false
   }
  }
 ],
 "metadata": {
  "kernelspec": {
   "display_name": "Python 3",
   "language": "python",
   "name": "python3"
  },
  "language_info": {
   "codemirror_mode": {
    "name": "ipython",
    "version": 2
   },
   "file_extension": ".py",
   "mimetype": "text/x-python",
   "name": "python",
   "nbconvert_exporter": "python",
   "pygments_lexer": "ipython2",
   "version": "2.7.6"
  }
 },
 "nbformat": 4,
 "nbformat_minor": 0
}
