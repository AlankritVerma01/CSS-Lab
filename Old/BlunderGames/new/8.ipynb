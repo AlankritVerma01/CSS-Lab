{
 "cells": [
  {
   "cell_type": "code",
   "execution_count": 8,
   "metadata": {
    "collapsed": true
   },
   "outputs": [
    {
     "name": "stderr",
     "output_type": "stream",
     "text": [
      "<UciProtocol (pid=19865)>: stderr >> \u001B[1m\u001B[31m       _\n",
      "<UciProtocol (pid=19865)>: stderr >> |   _ | |\n",
      "<UciProtocol (pid=19865)>: stderr >> |_ |_ |_|\u001B[0m v0.30.0+git.dirty built Jul 21 2023\n",
      "<UciProtocol (pid=19866)>: stderr >> \u001B[1m\u001B[31m       _\n",
      "<UciProtocol (pid=19866)>: stderr >> |   _ | |\n",
      "<UciProtocol (pid=19866)>: stderr >> |_ |_ |_|\u001B[0m v0.30.0+git.dirty built Jul 21 2023\n",
      "<UciProtocol (pid=19865)>: stderr >> Loading weights file from: maia_weights/maia-1100.pb.gz\n",
      "<UciProtocol (pid=19865)>: stderr >> Creating backend [metal]...\n",
      "<UciProtocol (pid=19865)>: stderr >> Initialized metal backend on device Apple M1 Pro\n"
     ]
    },
    {
     "name": "stdout",
     "output_type": "stream",
     "text": [
      "Evaluating Maia easiness for FEN: rnbqkbnr/pppppppp/8/8/8/8/PPPPPPPP/RNBQKBNR w KQkq - 0 1, Best Move: e2e4\n"
     ]
    },
    {
     "name": "stderr",
     "output_type": "stream",
     "text": [
      "<UciProtocol (pid=19866)>: stderr >> Loading weights file from: maia_weights/maia-1200.pb.gz\n",
      "<UciProtocol (pid=19866)>: stderr >> Creating backend [metal]...\n",
      "<UciProtocol (pid=19866)>: stderr >> Initialized metal backend on device Apple M1 Pro\n"
     ]
    },
    {
     "name": "stdout",
     "output_type": "stream",
     "text": [
      "Maia 1100 best moves: [(Move.from_uci('d2d4'), 132), (Move.from_uci('c2c4'), 129), (Move.from_uci('e2e4'), 99)]\n",
      "Maia 1200 best moves: [(Move.from_uci('c2c4'), 134), (Move.from_uci('d2d4'), 124), (Move.from_uci('e2e4'), 86)]\n",
      "Easiness scores: 1.0\n"
     ]
    }
   ],
   "source": [
    "import chess\n",
    "import chess.engine\n",
    "from statistics import mean\n",
    "\n",
    "# Function to get multiple best moves from Maia using multipv\n",
    "def get_multiple_best_moves(engine, board, n=3):\n",
    "    result = engine.analyse(board, chess.engine.Limit(nodes=1000), multipv=n)\n",
    "    best_moves = [(info[\"pv\"][0], info[\"score\"].relative.score(mate_score=10000)) for info in result]\n",
    "    # Sort the best moves based on their evaluation scores\n",
    "    best_moves_sorted = sorted(best_moves, key=lambda x: x[1], reverse=True)\n",
    "    return best_moves_sorted\n",
    "\n",
    "# Function to evaluate Maia easiness\n",
    "def evaluate_maia_easiness(fen, best_move, maia_engines, multipv=3):\n",
    "    board = chess.Board(fen)\n",
    "    easiness_scores = {}\n",
    "    print(f\"Evaluating Maia easiness for FEN: {fen}, Best Move: {best_move}\")\n",
    "\n",
    "    for elo, engine in maia_engines.items():\n",
    "        multiple_best_moves = get_multiple_best_moves(engine, board, multipv)\n",
    "        print(f\"Maia {elo} best moves: {multiple_best_moves}\")\n",
    "\n",
    "        move_probabilities = {move: (i + 1) / len(multiple_best_moves) for i, (move, score) in enumerate(multiple_best_moves)}\n",
    "\n",
    "        if best_move in move_probabilities:\n",
    "            easiness_score = move_probabilities[best_move]\n",
    "        else:\n",
    "            easiness_score = 1.0  # Assign 1.0 if the best move is not in the PV list\n",
    "\n",
    "        easiness_scores[elo] = easiness_score\n",
    "\n",
    "    # Combine easiness scores from different models into a single score\n",
    "    combined_easiness_score = mean(easiness_scores.values()) if easiness_scores else 1.0\n",
    "    return combined_easiness_score\n",
    "\n",
    "# Example usage:\n",
    "fen = \"rnbqkbnr/pppppppp/8/8/8/8/PPPPPPPP/RNBQKBNR w KQkq - 0 1\"\n",
    "best_move = chess.Move.from_uci(\"e2e4\")\n",
    "\n",
    "maia_engines = {\n",
    "    1100: chess.engine.SimpleEngine.popen_uci([\"lc0\", f\"--weights=maia_weights/maia-1100.pb.gz\"]),\n",
    "    1200: chess.engine.SimpleEngine.popen_uci([\"lc0\", f\"--weights=maia_weights/maia-1200.pb.gz\"]),\n",
    "    # Add other Maia engines as needed\n",
    "}\n",
    "\n",
    "easiness_scores = evaluate_maia_easiness(fen, best_move, maia_engines)\n",
    "print(f\"Easiness scores: {easiness_scores}\")\n",
    "\n",
    "# Cleanup Maia engines\n",
    "for engine in maia_engines.values():\n",
    "    engine.quit()\n"
   ]
  },
  {
   "cell_type": "markdown",
   "source": [],
   "metadata": {
    "collapsed": false
   }
  },
  {
   "cell_type": "code",
   "execution_count": 8,
   "outputs": [],
   "source": [],
   "metadata": {
    "collapsed": false
   }
  }
 ],
 "metadata": {
  "kernelspec": {
   "display_name": "Python 3",
   "language": "python",
   "name": "python3"
  },
  "language_info": {
   "codemirror_mode": {
    "name": "ipython",
    "version": 2
   },
   "file_extension": ".py",
   "mimetype": "text/x-python",
   "name": "python",
   "nbconvert_exporter": "python",
   "pygments_lexer": "ipython2",
   "version": "2.7.6"
  }
 },
 "nbformat": 4,
 "nbformat_minor": 0
}
