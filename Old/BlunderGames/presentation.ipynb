{
 "cells": [
  {
   "cell_type": "code",
   "execution_count": 1,
   "metadata": {
    "collapsed": true
   },
   "outputs": [
    {
     "data": {
      "text/plain": "<IPython.core.display.Markdown object>",
      "text/markdown": "\nIn this presentation, we will explore some famous chess games and identify significant blunders using Stockfish and Maia chess engines.\nWe will also visualize these blunders and discuss how they impacted the game.\n"
     },
     "execution_count": 1,
     "metadata": {},
     "output_type": "execute_result"
    }
   ],
   "source": [
    "# Introduction Slide\n",
    "import IPython.display as display\n",
    "\n",
    "display.Markdown(\"# Chess Blunder Analysis\")\n",
    "display.Markdown(\"## Using Stockfish and Maia Engines to Analyze Chess Blunders\")\n",
    "display.Markdown(\"\"\"\n",
    "In this presentation, we will explore some famous chess games and identify significant blunders using Stockfish and Maia chess engines.\n",
    "We will also visualize these blunders and discuss how they impacted the game.\n",
    "\"\"\")"
   ]
  },
  {
   "cell_type": "code",
   "execution_count": 2,
   "outputs": [
    {
     "data": {
      "text/plain": "<IPython.core.display.Markdown object>",
      "text/markdown": "\n### Tools:\n- **Stockfish**: A powerful open-source chess engine.\n- **Maia**: A neural network chess engine trained to mimic human play.\n\n### Methodology:\n1. **Load PGN Files**: Games are loaded from PGN files.\n2. **Analyze Moves**: Each move is analyzed to detect significant blunders.\n3. **Visualize Blunders**: Generate visualizations to illustrate the blunders and the suggested better moves.\n"
     },
     "execution_count": 2,
     "metadata": {},
     "output_type": "execute_result"
    }
   ],
   "source": [
    "# Overview of Tools and Methodology\n",
    "display.Markdown(\"## Tools and Methodology\")\n",
    "display.Markdown(\"\"\"\n",
    "### Tools:\n",
    "- **Stockfish**: A powerful open-source chess engine.\n",
    "- **Maia**: A neural network chess engine trained to mimic human play.\n",
    "\n",
    "### Methodology:\n",
    "1. **Load PGN Files**: Games are loaded from PGN files.\n",
    "2. **Analyze Moves**: Each move is analyzed to detect significant blunders.\n",
    "3. **Visualize Blunders**: Generate visualizations to illustrate the blunders and the suggested better moves.\n",
    "\"\"\")"
   ],
   "metadata": {
    "collapsed": false
   }
  },
  {
   "cell_type": "code",
   "execution_count": 3,
   "outputs": [
    {
     "ename": "NameError",
     "evalue": "name 'all_blunders' is not defined",
     "output_type": "error",
     "traceback": [
      "\u001B[0;31m---------------------------------------------------------------------------\u001B[0m",
      "\u001B[0;31mNameError\u001B[0m                                 Traceback (most recent call last)",
      "Cell \u001B[0;32mIn[3], line 13\u001B[0m\n\u001B[1;32m     10\u001B[0m     display\u001B[38;5;241m.\u001B[39mdisplay(display\u001B[38;5;241m.\u001B[39mImage(image_path))\n\u001B[1;32m     12\u001B[0m \u001B[38;5;66;03m# Display the results and visualizations\u001B[39;00m\n\u001B[0;32m---> 13\u001B[0m \u001B[38;5;28;01mfor\u001B[39;00m event, blunder_list \u001B[38;5;129;01min\u001B[39;00m \u001B[43mall_blunders\u001B[49m:\n\u001B[1;32m     14\u001B[0m     display\u001B[38;5;241m.\u001B[39mMarkdown(\u001B[38;5;124mf\u001B[39m\u001B[38;5;124m\"\u001B[39m\u001B[38;5;124m## Event: \u001B[39m\u001B[38;5;132;01m{\u001B[39;00mevent\u001B[38;5;132;01m}\u001B[39;00m\u001B[38;5;124m\"\u001B[39m)\n\u001B[1;32m     15\u001B[0m     \u001B[38;5;28;01mfor\u001B[39;00m i, (fen, move, stockfish_eval, stockfish_best_move, maia_suggestions) \u001B[38;5;129;01min\u001B[39;00m \u001B[38;5;28menumerate\u001B[39m(blunder_list):\n",
      "\u001B[0;31mNameError\u001B[0m: name 'all_blunders' is not defined"
     ]
    }
   ],
   "source": [
    "# Display Results and Visualizations\n",
    "import os\n",
    "import IPython.display as display\n",
    "\n",
    "# Directory to save images\n",
    "image_dir = \"chess_images\"\n",
    "\n",
    "# Function to display images\n",
    "def display_image(image_path):\n",
    "    display.display(display.Image(image_path))\n",
    "\n",
    "# Display the results and visualizations\n",
    "for event, blunder_list in all_blunders:\n",
    "    display.Markdown(f\"## Event: {event}\")\n",
    "    for i, (fen, move, stockfish_eval, stockfish_best_move, maia_suggestions) in enumerate(blunder_list):\n",
    "        display.Markdown(f\"### Blunder {i+1}\")\n",
    "        display.Markdown(f\"**Position (Before Blunder)**: {fen}\")\n",
    "        display.Markdown(f\"**Blunder Move**: {move}\")\n",
    "        display.Markdown(f\"**Stockfish Evaluation**: {stockfish_eval}\")\n",
    "        display.Markdown(f\"**Stockfish Suggested Move**: {stockfish_best_move}\")\n",
    "\n",
    "        for elo, (best_move, maia_eval) in maia_suggestions.items():\n",
    "            display.Markdown(f\"**Maia {elo} Evaluation**: {maia_eval}, **Suggested Move**: {best_move}\")\n",
    "\n",
    "        # Display images\n",
    "        initial_image_path = os.path.join(image_dir, f\"{event.replace(' ', '_')}_pos_{i}_initial.png\")\n",
    "        blunder_image_path = os.path.join(image_dir, f\"{event.replace(' ', '_')}_pos_{i}_blunder.png\")\n",
    "        correct_image_path = os.path.join(image_dir, f\"{event.replace(' ', '_')}_pos_{i}_correct.png\")\n",
    "\n",
    "        display.Markdown(f\"**Initial Position**\")\n",
    "        display_image(initial_image_path)\n",
    "        display.Markdown(f\"**Blunder Move**\")\n",
    "        display_image(blunder_image_path)\n",
    "        display.Markdown(f\"**Correct Move**\")\n",
    "        display_image(correct_image_path)"
   ],
   "metadata": {
    "collapsed": false
   }
  },
  {
   "cell_type": "code",
   "execution_count": null,
   "outputs": [],
   "source": [
    "# Interactive Blunder Quiz\n",
    "import ipywidgets as widgets\n",
    "from IPython.display import display\n",
    "\n",
    "def blunder_quiz(game_index, blunder_index):\n",
    "    event, blunder_list = all_blunders[game_index]\n",
    "    fen, move, stockfish_eval, stockfish_best_move, maia_suggestions = blunder_list[blunder_index]\n",
    "\n",
    "    board = chess.Board(fen)\n",
    "\n",
    "    display.Markdown(f\"## Blunder Quiz for {event}\")\n",
    "    display.Markdown(f\"**Position (Before Blunder)**: {fen}\")\n",
    "    display_image(os.path.join(image_dir, f\"{event.replace(' ', '_')}_pos_{blunder_index}_initial.png\"))\n",
    "\n",
    "    # Create a dropdown for user to select the move\n",
    "    move_options = [str(move)] + [str(stockfish_best_move)] + [str(best_move) for elo, (best_move, _) in maia_suggestions.items() if elo > 1300]\n",
    "    move_dropdown = widgets.Dropdown(options=move_options, description='Your Move:')\n",
    "\n",
    "    def check_answer(b):\n",
    "        user_move = move_dropdown.value\n",
    "        if user_move == str(stockfish_best_move):\n",
    "            display.Markdown(\"### Correct Move!\")\n",
    "            display_image(os.path.join(image_dir, f\"{event.replace(' ', '_')}_pos_{blunder_index}_correct.png\"))\n",
    "        else:\n",
    "            display.Markdown(\"### Blunder!\")\n",
    "            display_image(os.path.join(image_dir, f\"{event.replace(' ', '_')}_pos_{blunder_index}_blunder.png\"))\n",
    "\n",
    "    check_button = widgets.Button(description=\"Check Move\")\n",
    "    check_button.on_click(check_answer)\n",
    "\n",
    "    display(move_dropdown)\n",
    "    display(check_button)\n",
    "\n",
    "# Example usage\n",
    "blunder_quiz(game_index=0, blunder_index=0)"
   ],
   "metadata": {
    "collapsed": false
   }
  }
 ],
 "metadata": {
  "kernelspec": {
   "display_name": "Python 3",
   "language": "python",
   "name": "python3"
  },
  "language_info": {
   "codemirror_mode": {
    "name": "ipython",
    "version": 2
   },
   "file_extension": ".py",
   "mimetype": "text/x-python",
   "name": "python",
   "nbconvert_exporter": "python",
   "pygments_lexer": "ipython2",
   "version": "2.7.6"
  }
 },
 "nbformat": 4,
 "nbformat_minor": 0
}
