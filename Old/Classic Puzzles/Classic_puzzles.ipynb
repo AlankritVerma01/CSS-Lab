{
 "cells": [
  {
   "cell_type": "code",
   "execution_count": null,
   "metadata": {
    "collapsed": true
   },
   "outputs": [],
   "source": []
  },
  {
   "cell_type": "code",
   "execution_count": 1,
   "outputs": [
    {
     "name": "stdout",
     "output_type": "stream",
     "text": [
      "Initializing Stockfish engine...\n"
     ]
    },
    {
     "name": "stderr",
     "output_type": "stream",
     "text": [
      "<UciProtocol (pid=20359)>: stderr >> \u001B[1m\u001B[31m       _\n",
      "<UciProtocol (pid=20359)>: stderr >> |   _ | |\n",
      "<UciProtocol (pid=20359)>: stderr >> |_ |_ |_|\u001B[0m v0.30.0+git.dirty built Jul 21 2023\n",
      "<UciProtocol (pid=20360)>: stderr >> \u001B[1m\u001B[31m       _\n",
      "<UciProtocol (pid=20360)>: stderr >> |   _ | |\n",
      "<UciProtocol (pid=20360)>: stderr >> |_ |_ |_|\u001B[0m v0.30.0+git.dirty built Jul 21 2023\n",
      "<UciProtocol (pid=20361)>: stderr >> \u001B[1m\u001B[31m       _\n",
      "<UciProtocol (pid=20361)>: stderr >> |   _ | |\n",
      "<UciProtocol (pid=20361)>: stderr >> |_ |_ |_|\u001B[0m v0.30.0+git.dirty built Jul 21 2023\n",
      "<UciProtocol (pid=20362)>: stderr >> \u001B[1m\u001B[31m       _\n",
      "<UciProtocol (pid=20362)>: stderr >> |   _ | |\n",
      "<UciProtocol (pid=20362)>: stderr >> |_ |_ |_|\u001B[0m v0.30.0+git.dirty built Jul 21 2023\n",
      "<UciProtocol (pid=20363)>: stderr >> \u001B[1m\u001B[31m       _\n",
      "<UciProtocol (pid=20363)>: stderr >> |   _ | |\n",
      "<UciProtocol (pid=20363)>: stderr >> |_ |_ |_|\u001B[0m v0.30.0+git.dirty built Jul 21 2023\n",
      "<UciProtocol (pid=20364)>: stderr >> \u001B[1m\u001B[31m       _\n",
      "<UciProtocol (pid=20364)>: stderr >> |   _ | |\n",
      "<UciProtocol (pid=20364)>: stderr >> |_ |_ |_|\u001B[0m v0.30.0+git.dirty built Jul 21 2023\n",
      "<UciProtocol (pid=20365)>: stderr >> \u001B[1m\u001B[31m       _\n",
      "<UciProtocol (pid=20365)>: stderr >> |   _ | |\n",
      "<UciProtocol (pid=20365)>: stderr >> |_ |_ |_|\u001B[0m v0.30.0+git.dirty built Jul 21 2023\n",
      "<UciProtocol (pid=20366)>: stderr >> \u001B[1m\u001B[31m       _\n",
      "<UciProtocol (pid=20366)>: stderr >> |   _ | |\n",
      "<UciProtocol (pid=20366)>: stderr >> |_ |_ |_|\u001B[0m v0.30.0+git.dirty built Jul 21 2023\n",
      "<UciProtocol (pid=20367)>: stderr >> \u001B[1m\u001B[31m       _\n",
      "<UciProtocol (pid=20367)>: stderr >> |   _ | |\n",
      "<UciProtocol (pid=20367)>: stderr >> |_ |_ |_|\u001B[0m v0.30.0+git.dirty built Jul 21 2023\n"
     ]
    },
    {
     "name": "stdout",
     "output_type": "stream",
     "text": [
      "Initializing Maia engines...\n"
     ]
    }
   ],
   "source": [
    "\n",
    "# Import required libraries\n",
    "import chess\n",
    "import chess.engine\n",
    "import chess.pgn\n",
    "import subprocess\n",
    "import os\n",
    "import json\n",
    "import csv\n",
    "from IPython.display import display\n",
    "from statistics import mean\n",
    "\n",
    "# Paths to your engines and Maia models\n",
    "stockfish_path = \"/opt/homebrew/bin/stockfish\"\n",
    "maia_model_paths = {\n",
    "    1100: \"maia_weights/maia-1100.pb.gz\",\n",
    "    1200: \"maia_weights/maia-1200.pb.gz\",\n",
    "    1300: \"maia_weights/maia-1300.pb.gz\",\n",
    "    1400: \"maia_weights/maia-1400.pb.gz\",\n",
    "    1500: \"maia_weights/maia-1500.pb.gz\",\n",
    "    1600: \"maia_weights/maia-1600.pb.gz\",\n",
    "    1700: \"maia_weights/maia-1700.pb.gz\",\n",
    "    1800: \"maia_weights/maia-1800.pb.gz\",\n",
    "    1900: \"maia_weights/maia-1900.pb.gz\",\n",
    "}\n",
    "\n",
    "# Initialize Stockfish engine\n",
    "print(\"Initializing Stockfish engine...\")\n",
    "stockfish_engine = chess.engine.SimpleEngine.popen_uci(stockfish_path)\n",
    "\n",
    "# Initialize Maia engines\n",
    "print(\"Initializing Maia engines...\")\n",
    "maia_engines = {}\n",
    "for elo, path in maia_model_paths.items():\n",
    "    maia_engines[elo] = chess.engine.SimpleEngine.popen_uci([\"lc0\", f\"--weights={path}\"])"
   ],
   "metadata": {
    "collapsed": false
   }
  },
  {
   "cell_type": "code",
   "execution_count": 2,
   "outputs": [],
   "source": [
    "# Function to load games from a PGN file\n",
    "def load_games_from_pgn(file_path):\n",
    "    games = []\n",
    "    with open(file_path, 'r') as pgn_file:\n",
    "        while True:\n",
    "            game = chess.pgn.read_game(pgn_file)\n",
    "            if game is None:\n",
    "                break\n",
    "            games.append(game)\n",
    "    print(f\"Loaded {len(games)} games from PGN file {file_path}.\")\n",
    "    return games\n",
    "\n",
    "# Function to find classic puzzles in a game\n",
    "def find_classic_puzzles(game, stockfish_engine, threshold=2.00):\n",
    "    board = game.board()\n",
    "    puzzles = []\n",
    "\n",
    "    for move in game.mainline_moves():\n",
    "        fen_before = board.fen()\n",
    "        player = board.turn  # True for White, False for Black\n",
    "\n",
    "        # Analyze the position before the move\n",
    "        info = stockfish_engine.analyse(board, chess.engine.Limit(time=0.1), multipv=2)\n",
    "        if len(info) < 2:\n",
    "            continue\n",
    "\n",
    "        best_move = info[0][\"pv\"][0]\n",
    "        best_eval = info[0][\"score\"].relative.score(mate_score=10000)\n",
    "        second_best_eval = info[1][\"score\"].relative.score(mate_score=10000)\n",
    "\n",
    "        # Check if the difference is large enough\n",
    "        if abs(best_eval - second_best_eval) >= threshold:\n",
    "            board.push(best_move)\n",
    "            if not board.is_capture(best_move):\n",
    "                puzzles.append((fen_before, best_move, best_eval, second_best_eval))\n",
    "                print(f\"Puzzle found: {fen_before}, Best move: {best_move}, Eval difference: {abs(best_eval - second_best_eval)}\")\n",
    "            board.pop()\n",
    "\n",
    "        board.push(move)\n",
    "\n",
    "    return puzzles\n",
    "\n",
    "# Function to get multiple best moves from Maia using multipv\n",
    "def get_multiple_best_moves(engine, board, n=3):\n",
    "    result = engine.analyse(board, chess.engine.Limit(nodes=1000), multipv=n)\n",
    "    best_moves = [(info[\"pv\"][0], info[\"score\"].relative.score(mate_score=10000)) for info in result]\n",
    "    # Sort the best moves based on their evaluation scores\n",
    "    best_moves_sorted = sorted(best_moves, key=lambda x: x[1], reverse=True)\n",
    "    return best_moves_sorted\n"
   ],
   "metadata": {
    "collapsed": false
   }
  },
  {
   "cell_type": "code",
   "execution_count": 3,
   "outputs": [],
   "source": [
    "# Function to evaluate Maia easiness\n",
    "def evaluate_maia_easiness(fen, best_move, maia_engines, multipv=3):\n",
    "    board = chess.Board(fen)\n",
    "    easiness_scores = {}\n",
    "    print(f\"Evaluating Maia easiness for FEN: {fen}, Best Move: {best_move}\")\n",
    "\n",
    "    for elo, engine in maia_engines.items():\n",
    "        multiple_best_moves = get_multiple_best_moves(engine, board, multipv)\n",
    "        print(f\"Maia {elo} best moves: {multiple_best_moves}\")\n",
    "\n",
    "        move_probabilities = {move: (i + 1) / len(multiple_best_moves) for i, (move, score) in enumerate(multiple_best_moves)}\n",
    "\n",
    "        if best_move in move_probabilities:\n",
    "            easiness_score = move_probabilities[best_move]\n",
    "        else:\n",
    "            easiness_score = 1.0  # Assign 1.0 if the best move is not in the PV list\n",
    "\n",
    "        easiness_scores[elo] = easiness_score\n",
    "\n",
    "    # Combine easiness scores from different models into a single score\n",
    "    combined_easiness_score = mean(easiness_scores.values()) if easiness_scores else 1.0\n",
    "    return combined_easiness_score\n"
   ],
   "metadata": {
    "collapsed": false
   }
  },
  {
   "cell_type": "code",
   "execution_count": 4,
   "outputs": [
    {
     "name": "stdout",
     "output_type": "stream",
     "text": [
      "Starting to find classic puzzles in PGN files...\n",
      "Analyzing analysis_pgns_test/4c6eS6SH---1969 Petrosian vs. Spassky .pgn...\n",
      "Loaded 4 games from PGN file analysis_pgns_test/4c6eS6SH---1969 Petrosian vs. Spassky .pgn.\n",
      "Analyzing game FIDE World Championship Match 1969\n",
      "Analyzing game FIDE World Championship Match 1969\n",
      "Analyzing game FIDE World Championship Match 1969\n",
      "Analyzing game FIDE World Championship Match 1969\n",
      "Analyzing analysis_pgns_test/4S5UuAGn---1986 Karpov vs. Kasparov III.pgn...\n",
      "Loaded 1 games from PGN file analysis_pgns_test/4S5UuAGn---1986 Karpov vs. Kasparov III.pgn.\n",
      "Analyzing game FIDE World Championship Match 1986\n",
      "Analyzing analysis_pgns_test/TFFyOff1---1908 Lasker vs. Tarrasch.pgn...\n",
      "Loaded 7 games from PGN file analysis_pgns_test/TFFyOff1---1908 Lasker vs. Tarrasch.pgn.\n",
      "Analyzing game World Championship Match 1908\n",
      "Analyzing game World Championship Match 1908\n",
      "Analyzing game World Championship Match 1908\n",
      "Analyzing game World Championship Match 1908\n",
      "Analyzing game World Championship Match 1908\n",
      "Analyzing game World Championship Match 1908\n",
      "Analyzing game World Championship Match 1908\n",
      "Classic puzzles analysis complete. Results saved.\n"
     ]
    }
   ],
   "source": [
    "# Function to save results to CSV\n",
    "def save_results_to_csv(csv_file_path, data):\n",
    "    with open(csv_file_path, \"a\", newline='') as csvfile:\n",
    "        csvwriter = csv.writer(csvfile)\n",
    "        for fen, best_move, best_eval, second_best_eval, maia_easiness in data:\n",
    "            csvwriter.writerow([\n",
    "                fen,\n",
    "                best_move.uci(),  # Convert Move object to UCI notation\n",
    "                best_eval,\n",
    "                second_best_eval,\n",
    "                maia_easiness\n",
    "            ])\n",
    "\n",
    "# Function to save results to JSON\n",
    "def save_results_to_json(json_file_path, data):\n",
    "    if os.path.exists(json_file_path):\n",
    "        with open(json_file_path, \"r\") as jsonfile:\n",
    "            json_data = json.load(jsonfile)\n",
    "    else:\n",
    "        json_data = []\n",
    "\n",
    "    json_data.extend([{\n",
    "        \"fen\": fen,\n",
    "        \"best_move\": best_move.uci(),  # Convert Move object to UCI notation\n",
    "        \"best_eval\": best_eval,\n",
    "        \"second_best_eval\": second_best_eval,\n",
    "        \"maia_easiness\": maia_easiness\n",
    "    } for fen, best_move, best_eval, second_best_eval, maia_easiness in data])\n",
    "\n",
    "    with open(json_file_path, \"w\") as jsonfile:\n",
    "        json.dump(json_data, jsonfile, indent=4)\n",
    "\n",
    "# Paths to save results\n",
    "csv_file_path = \"classic_puzzles.csv\"\n",
    "json_file_path = \"classic_puzzles.json\"\n",
    "\n",
    "# Initialize CSV file with headers\n",
    "with open(csv_file_path, \"w\", newline='') as csvfile:\n",
    "    csvwriter = csv.writer(csvfile)\n",
    "    csvwriter.writerow([\"FEN\", \"Best Move\", \"Best Eval\", \"Second Best Eval\", \"Maia Easiness\"])\n",
    "\n",
    "# Load PGN files and find classic puzzles\n",
    "pgn_directory = \"analysis_pgns_test\"\n",
    "all_puzzles = []\n",
    "\n",
    "print(\"Starting to find classic puzzles in PGN files...\")\n",
    "\n",
    "for pgn_file in os.listdir(pgn_directory):\n",
    "    if pgn_file.endswith(\".pgn\"):\n",
    "        pgn_file_path = os.path.join(pgn_directory, pgn_file)\n",
    "        print(f\"Analyzing {pgn_file_path}...\")\n",
    "        all_games = load_games_from_pgn(pgn_file_path)\n",
    "\n",
    "        for game in all_games:\n",
    "            print(f\"Analyzing game {game.headers.get('Event', 'Unknown Event')}\")\n",
    "            puzzles = find_classic_puzzles(game, stockfish_engine)\n",
    "            for fen, best_move, best_eval, second_best_eval in puzzles:\n",
    "                maia_easiness = evaluate_maia_easiness(fen, best_move, maia_engines)\n",
    "                all_puzzles.append((fen, best_move, best_eval, second_best_eval, maia_easiness))\n",
    "\n",
    "            # Save results incrementally\n",
    "            save_results_to_csv(csv_file_path, puzzles)\n",
    "            save_results_to_json(json_file_path, puzzles)\n",
    "\n",
    "print(\"Classic puzzles analysis complete. Results saved.\")\n"
   ],
   "metadata": {
    "collapsed": false
   }
  },
  {
   "cell_type": "code",
   "execution_count": 5,
   "outputs": [
    {
     "name": "stdout",
     "output_type": "stream",
     "text": [
      "Cleaning up engines...\n",
      "Engines cleaned.\n"
     ]
    }
   ],
   "source": [
    "# Cleanup Maia engines\n",
    "print(\"Cleaning up engines...\")\n",
    "for engine in maia_engines.values():\n",
    "    engine.quit()\n",
    "stockfish_engine.quit()\n",
    "print(\"Engines cleaned.\")\n"
   ],
   "metadata": {
    "collapsed": false
   }
  }
 ],
 "metadata": {
  "kernelspec": {
   "display_name": "Python 3",
   "language": "python",
   "name": "python3"
  },
  "language_info": {
   "codemirror_mode": {
    "name": "ipython",
    "version": 2
   },
   "file_extension": ".py",
   "mimetype": "text/x-python",
   "name": "python",
   "nbconvert_exporter": "python",
   "pygments_lexer": "ipython2",
   "version": "2.7.6"
  }
 },
 "nbformat": 4,
 "nbformat_minor": 0
}
