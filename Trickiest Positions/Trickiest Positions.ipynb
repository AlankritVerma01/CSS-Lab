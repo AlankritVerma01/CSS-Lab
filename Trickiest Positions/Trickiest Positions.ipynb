{
 "cells": [
  {
   "cell_type": "code",
   "execution_count": null,
   "metadata": {
    "collapsed": true
   },
   "outputs": [],
   "source": []
  },
  {
   "cell_type": "code",
   "execution_count": 1,
   "outputs": [
    {
     "name": "stdout",
     "output_type": "stream",
     "text": [
      "Blunders saved to blunders.csv\n"
     ]
    }
   ],
   "source": [
    "import chess.pgn\n",
    "import pandas as pd\n",
    "import os\n",
    "import re\n",
    "\n",
    "def extract_blunders(pgn_file):\n",
    "    blunders = []\n",
    "\n",
    "    with open(pgn_file) as f:\n",
    "        while True:\n",
    "            game = chess.pgn.read_game(f)\n",
    "            if game is None:\n",
    "                break\n",
    "\n",
    "            headers = game.headers\n",
    "            node = game\n",
    "            move_number = 0\n",
    "\n",
    "            while node.variations:\n",
    "                next_node = node.variation(0)\n",
    "                move_number += 1\n",
    "\n",
    "                comment = next_node.comment\n",
    "                eval_match = re.search(r'\\[%eval (-?\\d+\\.\\d+)\\]', comment)\n",
    "                if eval_match:\n",
    "                    eval_score = float(eval_match.group(1))\n",
    "                else:\n",
    "                    eval_score = None\n",
    "\n",
    "                if \"Blunder\" in comment or \"blunder\" in comment:\n",
    "                    before_blunder = node.board().fen()\n",
    "                    after_blunder = next_node.board().fen()\n",
    "\n",
    "                    better_move_match = re.search(r'\\{ Blunder. (.*?) was best\\.', comment)\n",
    "                    if better_move_match:\n",
    "                        better_move = better_move_match.group(1)\n",
    "                    else:\n",
    "                        better_move = None\n",
    "\n",
    "                    blunder_info = {\n",
    "                        \"Event\": headers.get(\"Event\", \"Unknown\"),\n",
    "                        \"Site\": headers.get(\"Site\", \"Unknown\"),\n",
    "                        \"Date\": headers.get(\"Date\", \"Unknown\"),\n",
    "                        \"Round\": headers.get(\"Round\", \"Unknown\"),\n",
    "                        \"White Player\": headers.get(\"White\", \"Unknown\"),\n",
    "                        \"Black Player\": headers.get(\"Black\", \"Unknown\"),\n",
    "                        \"Result\": headers.get(\"Result\", \"Unknown\"),\n",
    "                        \"UTCDate\": headers.get(\"UTCDate\", \"Unknown\"),\n",
    "                        \"UTCTime\": headers.get(\"UTCTime\", \"Unknown\"),\n",
    "                        \"Variant\": headers.get(\"Variant\", \"Standard\"),\n",
    "                        \"ECO\": headers.get(\"ECO\", \"Unknown\"),\n",
    "                        \"Opening\": headers.get(\"Opening\", \"Unknown\"),\n",
    "                        \"Move Number\": move_number,\n",
    "                        \"Player\": headers.get(\"White\", \"Unknown\") if move_number % 2 == 1 else headers.get(\"Black\", \"Unknown\"),\n",
    "                        \"Blunder Move\": node.board().san(next_node.move),\n",
    "                        \"Better Move\": better_move,\n",
    "                        \"Comment\": comment,\n",
    "                        \"Evaluation\": eval_score,\n",
    "                        \"Position Before Blunder\": before_blunder,\n",
    "                        \"Position After Blunder\": after_blunder,\n",
    "                    }\n",
    "                    blunders.append(blunder_info)\n",
    "\n",
    "                node = next_node\n",
    "\n",
    "    return blunders\n",
    "\n",
    "def process_pgn_files(pgn_directory, output_file):\n",
    "    all_blunders = []\n",
    "\n",
    "    for filename in os.listdir(pgn_directory):\n",
    "        if filename.endswith(\".pgn\"):\n",
    "            pgn_file = os.path.join(pgn_directory, filename)\n",
    "            blunders = extract_blunders(pgn_file)\n",
    "            all_blunders.extend(blunders)\n",
    "\n",
    "    df = pd.DataFrame(all_blunders)\n",
    "    df.to_csv(output_file, index=False)\n",
    "    print(f\"Blunders saved to {output_file}\")\n",
    "\n",
    "# Usage\n",
    "pgn_directory = \"Analysis_pgns_small\"\n",
    "output_file = \"blunders.csv\"\n",
    "process_pgn_files(pgn_directory, output_file)"
   ],
   "metadata": {
    "collapsed": false
   }
  },
  {
   "cell_type": "code",
   "execution_count": null,
   "outputs": [],
   "source": [],
   "metadata": {
    "collapsed": false
   }
  }
 ],
 "metadata": {
  "kernelspec": {
   "display_name": "Python 3",
   "language": "python",
   "name": "python3"
  },
  "language_info": {
   "codemirror_mode": {
    "name": "ipython",
    "version": 2
   },
   "file_extension": ".py",
   "mimetype": "text/x-python",
   "name": "python",
   "nbconvert_exporter": "python",
   "pygments_lexer": "ipython2",
   "version": "2.7.6"
  }
 },
 "nbformat": 4,
 "nbformat_minor": 0
}
